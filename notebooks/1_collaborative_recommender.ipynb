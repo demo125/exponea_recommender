{
 "cells": [
  {
   "cell_type": "markdown",
   "metadata": {},
   "source": [
    "<h1>Collaborative filtering</h1>\n",
    "<p>\n",
    "Collaborative filtering is a method of making automatic predictions about the interests of a user by collecting preferences from many user. There are many libraries(LightFM, Implicit, Surprise) that help us to create optimized models for collaborative filtering. I tried all three but LightFM seems to be the best for this simple project. \n",
    "</p>\n",
    "<p>\n",
    "    The design of recommendation algorithms is influenced by the system used for tracking\n",
    "ratings. There are two types of ratings when we speak about recommender systems: implicit and explicit. Explicit rating are based on rating that are set by an user. They are typically interval-based, where a discrete set of ordered numbers are used to quantify like or dislike of the user. Example -  on the end of a movie user can rate the movie on 5-point rating scale. On the other hand, implicit rating are gathered by a system that user interact with(clicking on en email, buying a product). This kind of rating is mostly binary. Because our data contains only implicit rating - (product view, adding a product to cart, buying a product) I decided to use LightFM because of its support for implicit rating.\n",
    "</p>\n",
    "\n",
    "<p>\n",
    "    Collaborative filtering works very well if a user preferences are known. If a user is unknow for the system or he provided very few ratings, collaborative recommender system can not find relevant items for the user. This is know as cold start problem. Cold start problem are typicaly solved by using different types of recommendation systems. They are based on a fact that similar users tend to like similar items and similar items are visited by similar users. So when a new user visits a webpage, similar users are found. Then we can find what similar users likeand  recommend same products to the new users. Similarity can be computed from user features such a gender, age, location. Our dataset does not contain user features but provides item features. The item features can be used to create model for calculating similarity between items. This model can recommend similar items to the new user that had visited new items. This model is constructed in second notebook. In this notebook I describe how collaborative recommender system was build.\n",
    "   </p>\n"
   ]
  },
  {
   "cell_type": "code",
   "execution_count": 1,
   "metadata": {},
   "outputs": [],
   "source": [
    "import pandas as pd\n",
    "import numpy as np\n",
    "import matplotlib.pyplot as plt"
   ]
  },
  {
   "cell_type": "code",
   "execution_count": 2,
   "metadata": {
    "scrolled": false
   },
   "outputs": [
    {
     "name": "stdout",
     "output_type": "stream",
     "text": [
      "nuber of events: 653419\n"
     ]
    },
    {
     "data": {
      "text/html": [
       "<div>\n",
       "<style scoped>\n",
       "    .dataframe tbody tr th:only-of-type {\n",
       "        vertical-align: middle;\n",
       "    }\n",
       "\n",
       "    .dataframe tbody tr th {\n",
       "        vertical-align: top;\n",
       "    }\n",
       "\n",
       "    .dataframe thead th {\n",
       "        text-align: right;\n",
       "    }\n",
       "</style>\n",
       "<table border=\"1\" class=\"dataframe\">\n",
       "  <thead>\n",
       "    <tr style=\"text-align: right;\">\n",
       "      <th></th>\n",
       "      <th>customer_id</th>\n",
       "      <th>product_id</th>\n",
       "      <th>type</th>\n",
       "      <th>timestamp</th>\n",
       "    </tr>\n",
       "  </thead>\n",
       "  <tbody>\n",
       "    <tr>\n",
       "      <th>0</th>\n",
       "      <td>1</td>\n",
       "      <td>19685</td>\n",
       "      <td>view_product</td>\n",
       "      <td>1527812004</td>\n",
       "    </tr>\n",
       "    <tr>\n",
       "      <th>1</th>\n",
       "      <td>1</td>\n",
       "      <td>19685</td>\n",
       "      <td>view_product</td>\n",
       "      <td>1527812041</td>\n",
       "    </tr>\n",
       "    <tr>\n",
       "      <th>2</th>\n",
       "      <td>1</td>\n",
       "      <td>19685</td>\n",
       "      <td>add_to_cart</td>\n",
       "      <td>1527812046</td>\n",
       "    </tr>\n",
       "    <tr>\n",
       "      <th>3</th>\n",
       "      <td>1</td>\n",
       "      <td>19685</td>\n",
       "      <td>view_product</td>\n",
       "      <td>1527812048</td>\n",
       "    </tr>\n",
       "    <tr>\n",
       "      <th>4</th>\n",
       "      <td>1</td>\n",
       "      <td>19685</td>\n",
       "      <td>view_product</td>\n",
       "      <td>1527812050</td>\n",
       "    </tr>\n",
       "  </tbody>\n",
       "</table>\n",
       "</div>"
      ],
      "text/plain": [
       "   customer_id  product_id          type   timestamp\n",
       "0            1       19685  view_product  1527812004\n",
       "1            1       19685  view_product  1527812041\n",
       "2            1       19685   add_to_cart  1527812046\n",
       "3            1       19685  view_product  1527812048\n",
       "4            1       19685  view_product  1527812050"
      ]
     },
     "execution_count": 2,
     "metadata": {},
     "output_type": "execute_result"
    }
   ],
   "source": [
    "events = pd.read_csv(\"dataset_events.csv\")\n",
    "print(\"nuber of events:\" ,events.shape[0])\n",
    "events.head()"
   ]
  },
  {
   "cell_type": "code",
   "execution_count": 3,
   "metadata": {},
   "outputs": [
    {
     "name": "stdout",
     "output_type": "stream",
     "text": [
      "<class 'pandas.core.frame.DataFrame'>\n",
      "RangeIndex: 653419 entries, 0 to 653418\n",
      "Data columns (total 4 columns):\n",
      "customer_id    653419 non-null int64\n",
      "product_id     653419 non-null int64\n",
      "type           653419 non-null object\n",
      "timestamp      653419 non-null int64\n",
      "dtypes: int64(3), object(1)\n",
      "memory usage: 19.9+ MB\n",
      "None\n",
      "\n",
      "Number of unique customers: 83762\n",
      "Number of unique products: 28369\n"
     ]
    }
   ],
   "source": [
    "print(events.info())\n",
    "print()\n",
    "print(\"Number of unique customers:\", len(np.unique(events.customer_id.values)))\n",
    "print(\"Number of unique products:\", len(np.unique(events.product_id.values)))"
   ]
  },
  {
   "cell_type": "code",
   "execution_count": 4,
   "metadata": {
    "scrolled": false
   },
   "outputs": [
    {
     "data": {
      "image/png": "[encoded data removed]",
      "text/plain": [
       "<Figure size 432x288 with 1 Axes>"
      ]
     },
     "metadata": {
      "needs_background": "light"
     },
     "output_type": "display_data"
    }
   ],
   "source": [
    "plt.bar(events.type.value_counts().keys(), events.type.value_counts().values)\n",
    "plt.title(\"Distribution of event types\")\n",
    "plt.show()"
   ]
  },
  {
   "cell_type": "markdown",
   "metadata": {},
   "source": [
    "We can see that implicit rating - feedback about user preferences is provided by three events types. Most of the events are \"view_product\". We can use only one event type for building a model which would not use knowleage of whole dataset. Or we can build three different models for every event type and then combine their recommendations. The best would be to use single model that uses all the event types. The following cells contains a code that groups different event types by customer and product id. The result is smaller dataframes with additional columns that contain information about how many times an user \"created\" an event on specific product."
   ]
  },
  {
   "cell_type": "markdown",
   "metadata": {},
   "source": [
    "counting and grouping by \"View_product\""
   ]
  },
  {
   "cell_type": "code",
   "execution_count": 205,
   "metadata": {
    "scrolled": true
   },
   "outputs": [
    {
     "data": {
      "text/html": [
       "<div>\n",
       "<style scoped>\n",
       "    .dataframe tbody tr th:only-of-type {\n",
       "        vertical-align: middle;\n",
       "    }\n",
       "\n",
       "    .dataframe tbody tr th {\n",
       "        vertical-align: top;\n",
       "    }\n",
       "\n",
       "    .dataframe thead th {\n",
       "        text-align: right;\n",
       "    }\n",
       "</style>\n",
       "<table border=\"1\" class=\"dataframe\">\n",
       "  <thead>\n",
       "    <tr style=\"text-align: right;\">\n",
       "      <th></th>\n",
       "      <th>customer_id</th>\n",
       "      <th>product_id</th>\n",
       "      <th>n_views</th>\n",
       "    </tr>\n",
       "  </thead>\n",
       "  <tbody>\n",
       "    <tr>\n",
       "      <th>0</th>\n",
       "      <td>1</td>\n",
       "      <td>19685</td>\n",
       "      <td>4</td>\n",
       "    </tr>\n",
       "    <tr>\n",
       "      <th>1</th>\n",
       "      <td>2</td>\n",
       "      <td>7953</td>\n",
       "      <td>1</td>\n",
       "    </tr>\n",
       "    <tr>\n",
       "      <th>2</th>\n",
       "      <td>3</td>\n",
       "      <td>5156</td>\n",
       "      <td>1</td>\n",
       "    </tr>\n",
       "    <tr>\n",
       "      <th>3</th>\n",
       "      <td>3</td>\n",
       "      <td>5157</td>\n",
       "      <td>1</td>\n",
       "    </tr>\n",
       "    <tr>\n",
       "      <th>4</th>\n",
       "      <td>4</td>\n",
       "      <td>4633</td>\n",
       "      <td>1</td>\n",
       "    </tr>\n",
       "  </tbody>\n",
       "</table>\n",
       "</div>"
      ],
      "text/plain": [
       "   customer_id  product_id  n_views\n",
       "0            1       19685        4\n",
       "1            2        7953        1\n",
       "2            3        5156        1\n",
       "3            3        5157        1\n",
       "4            4        4633        1"
      ]
     },
     "execution_count": 205,
     "metadata": {},
     "output_type": "execute_result"
    }
   ],
   "source": [
    "only_views = events[events.type==\"view_product\"].drop(columns=['type', 'timestamp'])\n",
    "grouped_views_by_customer_id = only_views.groupby(['customer_id', 'product_id']).product_id.agg('count').to_frame('n_views').reset_index()\n",
    "grouped_views_by_customer_id.head()"
   ]
  },
  {
   "cell_type": "markdown",
   "metadata": {},
   "source": [
    "counting and grouping by \"add_to_cart\""
   ]
  },
  {
   "cell_type": "code",
   "execution_count": 208,
   "metadata": {
    "scrolled": true
   },
   "outputs": [
    {
     "data": {
      "text/html": [
       "<div>\n",
       "<style scoped>\n",
       "    .dataframe tbody tr th:only-of-type {\n",
       "        vertical-align: middle;\n",
       "    }\n",
       "\n",
       "    .dataframe tbody tr th {\n",
       "        vertical-align: top;\n",
       "    }\n",
       "\n",
       "    .dataframe thead th {\n",
       "        text-align: right;\n",
       "    }\n",
       "</style>\n",
       "<table border=\"1\" class=\"dataframe\">\n",
       "  <thead>\n",
       "    <tr style=\"text-align: right;\">\n",
       "      <th></th>\n",
       "      <th>customer_id</th>\n",
       "      <th>product_id</th>\n",
       "      <th>n_cart</th>\n",
       "    </tr>\n",
       "  </thead>\n",
       "  <tbody>\n",
       "    <tr>\n",
       "      <th>0</th>\n",
       "      <td>1</td>\n",
       "      <td>19685</td>\n",
       "      <td>1</td>\n",
       "    </tr>\n",
       "    <tr>\n",
       "      <th>1</th>\n",
       "      <td>5</td>\n",
       "      <td>8589</td>\n",
       "      <td>1</td>\n",
       "    </tr>\n",
       "    <tr>\n",
       "      <th>2</th>\n",
       "      <td>7</td>\n",
       "      <td>3151</td>\n",
       "      <td>1</td>\n",
       "    </tr>\n",
       "    <tr>\n",
       "      <th>3</th>\n",
       "      <td>7</td>\n",
       "      <td>13690</td>\n",
       "      <td>1</td>\n",
       "    </tr>\n",
       "    <tr>\n",
       "      <th>4</th>\n",
       "      <td>7</td>\n",
       "      <td>14463</td>\n",
       "      <td>1</td>\n",
       "    </tr>\n",
       "  </tbody>\n",
       "</table>\n",
       "</div>"
      ],
      "text/plain": [
       "   customer_id  product_id  n_cart\n",
       "0            1       19685       1\n",
       "1            5        8589       1\n",
       "2            7        3151       1\n",
       "3            7       13690       1\n",
       "4            7       14463       1"
      ]
     },
     "execution_count": 208,
     "metadata": {},
     "output_type": "execute_result"
    }
   ],
   "source": [
    "only_cart = events[events.type==\"add_to_cart\"].drop(columns=['type', 'timestamp'])\n",
    "grouped_cart_by_customer_id = only_cart.groupby(['customer_id', 'product_id']).product_id.agg('count').to_frame('n_cart').reset_index()\n",
    "grouped_cart_by_customer_id.head()"
   ]
  },
  {
   "cell_type": "markdown",
   "metadata": {},
   "source": [
    "counting and grouping by \"purchase_item\""
   ]
  },
  {
   "cell_type": "code",
   "execution_count": 209,
   "metadata": {},
   "outputs": [
    {
     "data": {
      "text/html": [
       "<div>\n",
       "<style scoped>\n",
       "    .dataframe tbody tr th:only-of-type {\n",
       "        vertical-align: middle;\n",
       "    }\n",
       "\n",
       "    .dataframe tbody tr th {\n",
       "        vertical-align: top;\n",
       "    }\n",
       "\n",
       "    .dataframe thead th {\n",
       "        text-align: right;\n",
       "    }\n",
       "</style>\n",
       "<table border=\"1\" class=\"dataframe\">\n",
       "  <thead>\n",
       "    <tr style=\"text-align: right;\">\n",
       "      <th></th>\n",
       "      <th>customer_id</th>\n",
       "      <th>product_id</th>\n",
       "      <th>n_purchases</th>\n",
       "    </tr>\n",
       "  </thead>\n",
       "  <tbody>\n",
       "    <tr>\n",
       "      <th>0</th>\n",
       "      <td>10</td>\n",
       "      <td>6963</td>\n",
       "      <td>1</td>\n",
       "    </tr>\n",
       "    <tr>\n",
       "      <th>1</th>\n",
       "      <td>22</td>\n",
       "      <td>4209</td>\n",
       "      <td>1</td>\n",
       "    </tr>\n",
       "    <tr>\n",
       "      <th>2</th>\n",
       "      <td>22</td>\n",
       "      <td>27912</td>\n",
       "      <td>1</td>\n",
       "    </tr>\n",
       "    <tr>\n",
       "      <th>3</th>\n",
       "      <td>43</td>\n",
       "      <td>24413</td>\n",
       "      <td>1</td>\n",
       "    </tr>\n",
       "    <tr>\n",
       "      <th>4</th>\n",
       "      <td>44</td>\n",
       "      <td>3814</td>\n",
       "      <td>1</td>\n",
       "    </tr>\n",
       "  </tbody>\n",
       "</table>\n",
       "</div>"
      ],
      "text/plain": [
       "   customer_id  product_id  n_purchases\n",
       "0           10        6963            1\n",
       "1           22        4209            1\n",
       "2           22       27912            1\n",
       "3           43       24413            1\n",
       "4           44        3814            1"
      ]
     },
     "execution_count": 209,
     "metadata": {},
     "output_type": "execute_result"
    }
   ],
   "source": [
    "only_purchases = events[events.type==\"purchase_item\"].drop(columns=['type', 'timestamp'])\n",
    "grouped_purchases_by_customer_id = only_purchases.groupby(['customer_id', 'product_id']).product_id.agg('count').to_frame('n_purchases').reset_index()\n",
    "grouped_purchases_by_customer_id.head()"
   ]
  },
  {
   "cell_type": "markdown",
   "metadata": {},
   "source": [
    "Mergeing dataframes"
   ]
  },
  {
   "cell_type": "code",
   "execution_count": 213,
   "metadata": {},
   "outputs": [
    {
     "data": {
      "text/html": [
       "<div>\n",
       "<style scoped>\n",
       "    .dataframe tbody tr th:only-of-type {\n",
       "        vertical-align: middle;\n",
       "    }\n",
       "\n",
       "    .dataframe tbody tr th {\n",
       "        vertical-align: top;\n",
       "    }\n",
       "\n",
       "    .dataframe thead th {\n",
       "        text-align: right;\n",
       "    }\n",
       "</style>\n",
       "<table border=\"1\" class=\"dataframe\">\n",
       "  <thead>\n",
       "    <tr style=\"text-align: right;\">\n",
       "      <th></th>\n",
       "      <th>customer_id</th>\n",
       "      <th>product_id</th>\n",
       "      <th>n_views</th>\n",
       "      <th>n_cart</th>\n",
       "      <th>n_purchases</th>\n",
       "    </tr>\n",
       "  </thead>\n",
       "  <tbody>\n",
       "    <tr>\n",
       "      <th>0</th>\n",
       "      <td>1</td>\n",
       "      <td>19685</td>\n",
       "      <td>4.0</td>\n",
       "      <td>1.0</td>\n",
       "      <td>0.0</td>\n",
       "    </tr>\n",
       "    <tr>\n",
       "      <th>1</th>\n",
       "      <td>2</td>\n",
       "      <td>7953</td>\n",
       "      <td>1.0</td>\n",
       "      <td>0.0</td>\n",
       "      <td>0.0</td>\n",
       "    </tr>\n",
       "    <tr>\n",
       "      <th>2</th>\n",
       "      <td>3</td>\n",
       "      <td>5156</td>\n",
       "      <td>1.0</td>\n",
       "      <td>0.0</td>\n",
       "      <td>0.0</td>\n",
       "    </tr>\n",
       "    <tr>\n",
       "      <th>3</th>\n",
       "      <td>3</td>\n",
       "      <td>5157</td>\n",
       "      <td>1.0</td>\n",
       "      <td>0.0</td>\n",
       "      <td>0.0</td>\n",
       "    </tr>\n",
       "    <tr>\n",
       "      <th>4</th>\n",
       "      <td>4</td>\n",
       "      <td>21122</td>\n",
       "      <td>4.0</td>\n",
       "      <td>0.0</td>\n",
       "      <td>0.0</td>\n",
       "    </tr>\n",
       "  </tbody>\n",
       "</table>\n",
       "</div>"
      ],
      "text/plain": [
       "   customer_id  product_id  n_views  n_cart  n_purchases\n",
       "0            1       19685      4.0     1.0          0.0\n",
       "1            2        7953      1.0     0.0          0.0\n",
       "2            3        5156      1.0     0.0          0.0\n",
       "3            3        5157      1.0     0.0          0.0\n",
       "4            4       21122      4.0     0.0          0.0"
      ]
     },
     "execution_count": 213,
     "metadata": {},
     "output_type": "execute_result"
    }
   ],
   "source": [
    "customer_product = events[['customer_id', 'product_id']].drop_duplicates().reset_index(drop=True)\n",
    "event_counts = pd.merge(customer_product, grouped_views_by_customer_id,  how='left', left_on=['customer_id','product_id'], right_on = ['customer_id','product_id'])\n",
    "event_counts['n_views'].fillna(0, inplace=True)\n",
    "event_counts = pd.merge(event_counts, grouped_cart_by_customer_id,  how='left', left_on=['customer_id','product_id'], right_on = ['customer_id','product_id'])\n",
    "event_counts['n_cart'].fillna(0, inplace=True)\n",
    "event_counts = pd.merge(event_counts, grouped_purchases_by_customer_id,  how='left', left_on=['customer_id','product_id'], right_on = ['customer_id','product_id'])\n",
    "event_counts['n_purchases'].fillna(0, inplace=True)\n",
    "event_counts.head()"
   ]
  },
  {
   "cell_type": "markdown",
   "metadata": {},
   "source": [
    "Checking if aggregation was correct"
   ]
  },
  {
   "cell_type": "code",
   "execution_count": 9,
   "metadata": {},
   "outputs": [
    {
     "name": "stdout",
     "output_type": "stream",
     "text": [
      "592299.0 (592299, 4)\n",
      "46121.0 (46121, 4)\n",
      "14999.0 (14999, 4)\n"
     ]
    },
    {
     "data": {
      "text/plain": [
       "((357930, 5), (357930, 2))"
      ]
     },
     "execution_count": 9,
     "metadata": {},
     "output_type": "execute_result"
    }
   ],
   "source": [
    "print(event_counts['n_views'].sum(), events[events.type==\"view_product\"].shape)\n",
    "print(event_counts['n_cart'].sum(), events[events.type==\"add_to_cart\"].shape)\n",
    "print(event_counts['n_purchases'].sum(), events[events.type==\"purchase_item\"].shape)\n",
    "\n",
    "event_counts.shape, events[['product_id', 'customer_id']].drop_duplicates().shape\n"
   ]
  },
  {
   "cell_type": "markdown",
   "metadata": {},
   "source": [
    "Now our data are prepared to create valid input for LightFM models. The library provides function to create sparse matrix of interacions directly from a dataframe. The dataframe should reperesent a list of tuples (customer_id, product_id) or triple (customer_id, product_id, weight). The weight is used to quantify like of the user. We can use fact that when a customer adds a product to the cart he likes the product more likely than just visiting it and when he purchases the product several times he likes the product most likely. In following cell I created new column \"rating\" and set its value according to these rules:"
   ]
  },
  {
   "cell_type": "code",
   "execution_count": 48,
   "metadata": {
    "scrolled": true
   },
   "outputs": [
    {
     "data": {
      "text/html": [
       "<div>\n",
       "<style scoped>\n",
       "    .dataframe tbody tr th:only-of-type {\n",
       "        vertical-align: middle;\n",
       "    }\n",
       "\n",
       "    .dataframe tbody tr th {\n",
       "        vertical-align: top;\n",
       "    }\n",
       "\n",
       "    .dataframe thead th {\n",
       "        text-align: right;\n",
       "    }\n",
       "</style>\n",
       "<table border=\"1\" class=\"dataframe\">\n",
       "  <thead>\n",
       "    <tr style=\"text-align: right;\">\n",
       "      <th></th>\n",
       "      <th>customer_id</th>\n",
       "      <th>product_id</th>\n",
       "      <th>n_views</th>\n",
       "      <th>n_cart</th>\n",
       "      <th>n_purchases</th>\n",
       "      <th>rating</th>\n",
       "    </tr>\n",
       "  </thead>\n",
       "  <tbody>\n",
       "    <tr>\n",
       "      <th>0</th>\n",
       "      <td>1</td>\n",
       "      <td>19685</td>\n",
       "      <td>4.0</td>\n",
       "      <td>1.0</td>\n",
       "      <td>0.0</td>\n",
       "      <td>3</td>\n",
       "    </tr>\n",
       "    <tr>\n",
       "      <th>1</th>\n",
       "      <td>2</td>\n",
       "      <td>7953</td>\n",
       "      <td>1.0</td>\n",
       "      <td>0.0</td>\n",
       "      <td>0.0</td>\n",
       "      <td>1</td>\n",
       "    </tr>\n",
       "    <tr>\n",
       "      <th>2</th>\n",
       "      <td>3</td>\n",
       "      <td>5156</td>\n",
       "      <td>1.0</td>\n",
       "      <td>0.0</td>\n",
       "      <td>0.0</td>\n",
       "      <td>1</td>\n",
       "    </tr>\n",
       "    <tr>\n",
       "      <th>3</th>\n",
       "      <td>3</td>\n",
       "      <td>5157</td>\n",
       "      <td>1.0</td>\n",
       "      <td>0.0</td>\n",
       "      <td>0.0</td>\n",
       "      <td>1</td>\n",
       "    </tr>\n",
       "    <tr>\n",
       "      <th>4</th>\n",
       "      <td>4</td>\n",
       "      <td>21122</td>\n",
       "      <td>4.0</td>\n",
       "      <td>0.0</td>\n",
       "      <td>0.0</td>\n",
       "      <td>2</td>\n",
       "    </tr>\n",
       "  </tbody>\n",
       "</table>\n",
       "</div>"
      ],
      "text/plain": [
       "   customer_id  product_id  n_views  n_cart  n_purchases  rating\n",
       "0            1       19685      4.0     1.0          0.0       3\n",
       "1            2        7953      1.0     0.0          0.0       1\n",
       "2            3        5156      1.0     0.0          0.0       1\n",
       "3            3        5157      1.0     0.0          0.0       1\n",
       "4            4       21122      4.0     0.0          0.0       2"
      ]
     },
     "execution_count": 48,
     "metadata": {},
     "output_type": "execute_result"
    }
   ],
   "source": [
    "event_counts['rating'] = 0 #default value\n",
    "\n",
    "idxs = event_counts[event_counts.n_views == 1].index #set the weight to 1 when customer visited the product once\n",
    "event_counts.loc[idxs, 'rating'] = 1 \n",
    "\n",
    "idxs = event_counts[event_counts.n_views > 1].index #set the weight to 2 when customer visited the product several times\n",
    "event_counts.loc[idxs, 'rating'] = 2\n",
    "\n",
    "idxs = event_counts[event_counts.n_cart == 1].index #set the weight to 3 when customer added the product to cart\n",
    "event_counts.loc[idxs, 'rating'] = 3\n",
    "\n",
    "idxs = event_counts[event_counts.n_cart > 1].index #set the weight to 4 when customer added the product to cart several times\n",
    "event_counts.loc[idxs, 'rating'] = 4triple \n",
    "\n",
    "idxs = event_counts[event_counts.n_purchases == 1].index #set the weight to 5 when customer bought the product\n",
    "event_counts.loc[idxs, 'rating'] = 5\n",
    "\n",
    "idxs = event_counts[event_counts.n_purchases > 1].index #set the weight to 6 when customer bought the product several times\n",
    "event_counts.loc[idxs, 'rating'] = 6\n",
    "event_counts.head()"
   ]
  },
  {
   "cell_type": "markdown",
   "metadata": {},
   "source": [
    "Dropping unnecessary columns.\n"
   ]
  },
  {
   "cell_type": "code",
   "execution_count": 49,
   "metadata": {},
   "outputs": [
    {
     "data": {
      "text/plain": [
       "array([[    1, 19685,     3],\n",
       "       [    2,  7953,     1],\n",
       "       [    3,  5156,     1],\n",
       "       ...,\n",
       "       [86015,  8706,     1],\n",
       "       [86015, 13357,     2],\n",
       "       [86015, 13356,     2]], dtype=int64)"
      ]
     },
     "execution_count": 49,
     "metadata": {},
     "output_type": "execute_result"
    }
   ],
   "source": [
    "ratings = event_counts.drop(columns=['n_views','n_cart','n_purchases']).reset_index(drop=True).values\n",
    "ratings"
   ]
  },
  {
   "cell_type": "markdown",
   "metadata": {},
   "source": [
    "Building interaction matrix with help of Dataset class"
   ]
  },
  {
   "cell_type": "code",
   "execution_count": 50,
   "metadata": {},
   "outputs": [
    {
     "data": {
      "text/plain": [
       "<83762x28369 sparse matrix of type '<class 'numpy.float32'>'\n",
       "\twith 357930 stored elements in COOrdinate format>"
      ]
     },
     "execution_count": 50,
     "metadata": {},
     "output_type": "execute_result"
    }
   ],
   "source": [
    "\n",
    "from lightfm.data import Dataset\n",
    "\n",
    "dataset = Dataset()\n",
    "dataset.fit(\n",
    "    users = set(ratings[:, 0]),\n",
    "    items = set(ratings[:, 1])\n",
    ")\n",
    "_, interactions = dataset.build_interactions(ratings)\n",
    "interactions"
   ]
  },
  {
   "cell_type": "markdown",
   "metadata": {},
   "source": [
    "According to several resources, for collaborative filtering to work, it is needed to have interaction matrix with sparsity at most 99.5%. Setting the sparsity under this value can be done by removing customers and product with only few views. This method helped to create a model with higher precision but it also means that we need to create a different model for filtered customers. This model is build in second notebook."
   ]
  },
  {
   "cell_type": "markdown",
   "metadata": {},
   "source": [
    "Following cell shows us that raw interacion matrix has 99.98% which is very high."
   ]
  },
  {
   "cell_type": "code",
   "execution_count": 51,
   "metadata": {},
   "outputs": [
    {
     "data": {
      "text/plain": [
       "(99.98493715404697, (83762, 28369), scipy.sparse.coo.coo_matrix, 6.0)"
      ]
     },
     "execution_count": 51,
     "metadata": {},
     "output_type": "execute_result"
    }
   ],
   "source": [
    "def get_sparsity(M):\n",
    "    matrix_size = M.shape[0]*M.shape[1] \n",
    "    num_events = len(M.nonzero()[0])\n",
    "    sparsity = 100*(1 - (num_events/matrix_size))\n",
    "    return sparsity\n",
    "\n",
    "get_sparsity(interactions), interactions.shape, type(interactions), np.max(interactions)"
   ]
  },
  {
   "cell_type": "markdown",
   "metadata": {},
   "source": [
    "Decreasing sparsity of the interacion matrix is done by removing product that have under 50 views and customers that have less then 7 views. Filtering is done by following cell. I tried different values but these lead to best precision of the model while not removing too many interactions."
   ]
  },
  {
   "cell_type": "code",
   "execution_count": 52,
   "metadata": {},
   "outputs": [
    {
     "name": "stdout",
     "output_type": "stream",
     "text": [
      "(18782,) (2315,)\n"
     ]
    },
    {
     "data": {
      "text/plain": [
       "(134444, 3)"
      ]
     },
     "execution_count": 52,
     "metadata": {},
     "output_type": "execute_result"
    }
   ],
   "source": [
    "min_product_events_count = 50\n",
    "grouped_events_by_product_id = events.groupby(['product_id']).customer_id.agg('count').to_frame('n_events').reset_index()\n",
    "products_with_more_than_n_events = grouped_events_by_product_id[grouped_events_by_product_id.n_events>min_product_events_count]\n",
    "products_with_more_than_n_events = np.array(products_with_more_than_n_events.product_id)\n",
    "\n",
    "min_customer_events_count = 7\n",
    "grouped_events_by_customer_id = events.groupby(['customer_id']).product_id.agg('count').to_frame('n_events').reset_index()\n",
    "customers_with_more_than_n_events = grouped_events_by_customer_id[grouped_events_by_customer_id.n_events>min_customer_events_count]\n",
    "customers_with_more_than_n_events = np.array(customers_with_more_than_n_events.customer_id)\n",
    "\n",
    "print(customers_with_more_than_n_events.shape, products_with_more_than_n_events.shape)\n",
    "\n",
    "filtered_event_counts = event_counts.loc[event_counts.product_id.isin(products_with_more_than_n_events)]\n",
    "filtered_event_counts = filtered_event_counts.loc[event_counts.customer_id.isin(customers_with_more_than_n_events)]\n",
    "\n",
    "final_df =  filtered_event_counts.drop(columns=['n_views','n_cart','n_purchases']).reset_index(drop=True)\n",
    "ratings = final_df.values\n",
    "ratings.shape"
   ]
  },
  {
   "cell_type": "code",
   "execution_count": 53,
   "metadata": {},
   "outputs": [
    {
     "data": {
      "text/plain": [
       "(17826, 2315, (134444, 3))"
      ]
     },
     "execution_count": 53,
     "metadata": {},
     "output_type": "execute_result"
    }
   ],
   "source": [
    "len(set(filtered_event_counts.customer_id)), len(set(filtered_event_counts.product_id)), ratings.shape"
   ]
  },
  {
   "cell_type": "markdown",
   "metadata": {},
   "source": [
    "Building the final interaction matrix"
   ]
  },
  {
   "cell_type": "code",
   "execution_count": 58,
   "metadata": {},
   "outputs": [
    {
     "data": {
      "text/plain": [
       "(99.67421091671132, (17826, 2315), scipy.sparse.coo.coo_matrix, 6.0)"
      ]
     },
     "execution_count": 58,
     "metadata": {},
     "output_type": "execute_result"
    }
   ],
   "source": [
    "dataset = Dataset()\n",
    "dataset.fit(\n",
    "    users = set(ratings[:, 0]),\n",
    "    items = set(ratings[:, 1])\n",
    ")\n",
    "_, interactions = dataset.build_interactions(ratings)\n",
    "\n",
    "get_sparsity(interactions), interactions.shape, type(interactions), np.max(interactions)"
   ]
  },
  {
   "cell_type": "markdown",
   "metadata": {},
   "source": [
    "<h2>Collaborative recommender system</h2>"
   ]
  },
  {
   "cell_type": "code",
   "execution_count": 59,
   "metadata": {},
   "outputs": [],
   "source": [
    "from lightfm.cross_validation import random_train_test_split\n",
    "from lightfm import LightFM\n",
    "from lightfm.evaluation import precision_at_k, recall_at_k, auc_score"
   ]
  },
  {
   "cell_type": "markdown",
   "metadata": {},
   "source": [
    "LightFM model uses its own internal product and customer ids. Dataset.mapping() returns dictionaries which translate real product/customer ids to internal ids"
   ]
  },
  {
   "cell_type": "code",
   "execution_count": 78,
   "metadata": {},
   "outputs": [
    {
     "data": {
      "text/plain": [
       "(2315, 17826)"
      ]
     },
     "execution_count": 78,
     "metadata": {},
     "output_type": "execute_result"
    }
   ],
   "source": [
    "mappings = dataset.mapping()\n",
    "user_mapping, item_mapping = mappings[0], mappings[2]\n",
    "len(item_mapping), len(user_mapping)"
   ]
  },
  {
   "cell_type": "markdown",
   "metadata": {},
   "source": [
    "To see how our model is doing the interaction matrix is \"split\" to two train and test matrices. "
   ]
  },
  {
   "cell_type": "code",
   "execution_count": 79,
   "metadata": {},
   "outputs": [
    {
     "data": {
      "text/plain": [
       "((17826, 2315), (17826, 2315), 99.73936921801557, 99.93484169869575)"
      ]
     },
     "execution_count": 79,
     "metadata": {},
     "output_type": "execute_result"
    }
   ],
   "source": [
    "train, test= random_train_test_split(interactions, test_percentage=0.20, random_state=np.random.RandomState(seed=42))\n",
    "\n",
    "train.shape, test.shape, get_sparsity(train), get_sparsity(test)"
   ]
  },
  {
   "cell_type": "markdown",
   "metadata": {},
   "source": [
    "Setting a baseline model is also good way how to check performance of a model. I created two baseline models. The first model simply recommends random items. The easiest way how to create a random matrix with relevant sparsity is to randomly shuffle default interaction matrix. "
   ]
  },
  {
   "cell_type": "code",
   "execution_count": 80,
   "metadata": {},
   "outputs": [
    {
     "data": {
      "text/plain": [
       "((17826, 2315), 99.67421091671132)"
      ]
     },
     "execution_count": 80,
     "metadata": {},
     "output_type": "execute_result"
    }
   ],
   "source": [
    "from scipy.sparse import csr_matrix\n",
    "\n",
    "rnd = np.array(interactions.todense()).copy()\n",
    "np.random.shuffle(rnd)\n",
    "random = csr_matrix(rnd)\n",
    "random.shape, get_sparsity(random)"
   ]
  },
  {
   "cell_type": "markdown",
   "metadata": {},
   "source": [
    "Second baseline model is created from popular products. The model simply recommends 5 most popular products to every customer. Finding the most popular products is done in third notenook. Here I just imported them. An empty interaction matrix is created and then every row of the matrix is filled with 5 most viewed products, 5 most added-to-cart products and 5 most purchased products. This creates an interaction matrix with similar sparsity."
   ]
  },
  {
   "cell_type": "code",
   "execution_count": 98,
   "metadata": {},
   "outputs": [
    {
     "data": {
      "text/plain": [
       "99.61123110151188"
      ]
     },
     "execution_count": 98,
     "metadata": {},
     "output_type": "execute_result"
    }
   ],
   "source": [
    "sorted_popular_items_by_purchase = np.load('sorted_popular_items_by_purchase.npy')\n",
    "sorted_popular_items_by_cart_add = np.load('sorted_popular_items_by_cart_add.npy')\n",
    "sorted_popular_items_by_views = np.load('sorted_popular_items_by_views.npy')\n",
    "n_popular = 5\n",
    "popular = np.zeros(train.shape)\n",
    "for id in sorted_popular_items_by_views[:n_popular]:\n",
    "    if id in item_mapping:\n",
    "        idx = item_mapping[id]\n",
    "        popular[:, idx] = 1 #rating for a view\n",
    "        \n",
    "for id in sorted_popular_items_by_cart_add[:n_popular]:\n",
    "    if id in item_mapping:\n",
    "        idx = item_mapping[id]\n",
    "        popular[:, idx] = 3 #rating for adding to cart\n",
    "\n",
    "for id in sorted_popular_items_by_purchase[:n_popular]:\n",
    "    if id in item_mapping:\n",
    "        idx = item_mapping[id]\n",
    "        popular[:, idx] = 5 #rating for a purchase\n",
    "        \n",
    "popular = csr_matrix(popular)\n",
    "get_sparsity(popular)"
   ]
  },
  {
   "cell_type": "markdown",
   "metadata": {},
   "source": [
    "<p>\n",
    "LightFM is easy to use. It provieds single model with different loss function. The documentation says that warp loss function is appropriate for implicit ratings. I tried several different hyperparameters but as project assignment says, it is not the goal of the project to maximize precision of models.\n",
    "</p>\n",
    "<p>\n",
    "    We can see that model that makes random recommendations is worst - only 0.6 AUC. Model that recommends the most popular items is much better - more than 0.83 AUC. The best model is LightFM model with 0.91 AUC on test set which is not bad.\n",
    "</p>"
   ]
  },
  {
   "cell_type": "code",
   "execution_count": 99,
   "metadata": {
    "scrolled": true
   },
   "outputs": [
    {
     "name": "stdout",
     "output_type": "stream",
     "text": [
      "Epoch 0\n",
      "Epoch 1\n",
      "Epoch 2\n",
      "Epoch 3\n",
      "Epoch 4\n",
      "Epoch 5\n",
      "Epoch 6\n",
      "Epoch 7\n",
      "Epoch 8\n",
      "Epoch 9\n",
      "Epoch 10\n",
      "Epoch 11\n",
      "Epoch 12\n",
      "Epoch 13\n",
      "Epoch 14\n",
      "random     precision: 0.0150 recall: 0.0201 f1: 0.0172\n",
      "popular    precision: 0.0977 recall: 0.1085 f1: 0.1028\n",
      "train      precision: 0.3567 recall: 0.7501 f1: 0.4835\n",
      "test       precision: 0.0592 recall: 0.3197 f1: 0.0999\n",
      "random     AUC: 0.6028\n",
      "popular    AUC: 0.8390\n",
      "train      AUC: 0.9964\n",
      "test       AUC: 0.9184\n"
     ]
    }
   ],
   "source": [
    "model = LightFM(loss='warp', no_components=40)\n",
    "\n",
    "model.fit_partial(train, epochs=15, verbose=True)\n",
    "\n",
    "d = {\n",
    "    \"random\": random,\n",
    "    \"popular\": popular,\n",
    "    \"train\": train,\n",
    "    \"test\": test,\n",
    "}\n",
    "for key in d:\n",
    "    precision = precision_at_k(model, d[key], k=10, num_threads=4).mean()\n",
    "    recall = recall_at_k(model, d[key], k=10, num_threads=4).mean()\n",
    "    f1 = (2*precision*recall)/(precision+recall) \n",
    "    print(\"{:10} precision: {:5.4f} recall: {:5.4f} f1: {:4.4f}\".format(key, precision, recall, f1))\n",
    "for key in d:\n",
    "    auc = auc_score(model, d[key], num_threads=4).mean()\n",
    "    print(\"{:10} AUC: {:5.4f}\".format(key, auc))\n"
   ]
  },
  {
   "cell_type": "markdown",
   "metadata": {},
   "source": [
    "Making recommendations"
   ]
  },
  {
   "cell_type": "code",
   "execution_count": 191,
   "metadata": {
    "scrolled": false
   },
   "outputs": [
    {
     "name": "stdout",
     "output_type": "stream",
     "text": [
      "Recommended items:\n",
      " [ 3133 20734 21413   331 21417 12053 21415 21416 21414 24439 22031 21411\n",
      " 21412   437 21122 22127 10289  3146 21410  9804]\n",
      "Recommended item scores:\n",
      " [1.83076382 1.82239783 1.67513633 1.62306786 1.39467371 1.31348443\n",
      " 1.28727615 1.28337586 1.26176095 1.24249721 1.23888063 1.18871486\n",
      " 1.18356371 1.14689004 1.12942445 1.12779057 1.07092488 1.05691826\n",
      " 1.05348837 1.02433622]\n"
     ]
    }
   ],
   "source": [
    "user_id = 423\n",
    "user_idx = user_mapping[user_id]\n",
    "n_recommended_items = 20\n",
    "\n",
    "product_idxs = np.array(list(item_mapping.values()))\n",
    "product_ids = np.array(list(item_mapping.keys()))\n",
    "\n",
    "scores = model.predict([user_idx], list(item_mapping.values()))\n",
    "\n",
    "sorted_idxs = np.argsort(-scores)[:n_recommended_items]\n",
    "\n",
    "print(\"Recommended items:\\n\", product_ids[sorted_idxs])\n",
    "print(\"Recommended item scores:\\n\", scores[sorted_idxs])\n",
    "\n",
    "recommended_item_ids = product_ids[sorted_idxs]"
   ]
  },
  {
   "cell_type": "markdown",
   "metadata": {},
   "source": [
    "Another way how to check if the model works is to use model for finding most similar products to given product. The model is created in second notebook. We can use the fact that products that are recommended for a user should be more similar among each other than randomly selected products. Following cell contains a function that calculate average similarity among products provided in list. The similarities are gathered and averaged."
   ]
  },
  {
   "cell_type": "code",
   "execution_count": 192,
   "metadata": {},
   "outputs": [],
   "source": [
    "import requests\n",
    "\n",
    "def get_average_similairty_among_recommened_items(recommended_item_ids):\n",
    "    similarities = []\n",
    "    l1 = recommended_item_ids.copy()\n",
    "    np.random.shuffle(recommended_item_ids) #randomly shuffle the list\n",
    "    l2 = recommended_item_ids.copy() \n",
    "    pairs = list(zip(l1, l2)) #making list of pairs\n",
    "    for p in pairs:\n",
    "        response = requests.get('http://127.0.0.1:5000/similarity/'+str(p[0])+'/'+str(p[1])) \n",
    "        similarity = response.json()\n",
    "        similarities.append(similarity)\n",
    "        \n",
    "    return np.mean(similarities)"
   ]
  },
  {
   "cell_type": "markdown",
   "metadata": {},
   "source": [
    "We can see that average similarity among recommended products of most user is much higher than average similarity among randomly picked products."
   ]
  },
  {
   "cell_type": "code",
   "execution_count": 199,
   "metadata": {},
   "outputs": [
    {
     "name": "stdout",
     "output_type": "stream",
     "text": [
      "Average similarity among recommended items 0.597437227491562\n",
      "Average similarity among random products 0.40770431755463593\n"
     ]
    }
   ],
   "source": [
    "print(\"Average similarity among recommended items\", get_average_similairty_among_recommened_items(recommended_item_ids))\n",
    "\n",
    "np.random.shuffle(product_ids) #randoly shuffle all product ids\n",
    "random_ids = product_ids[:n_recommended_items] #pick first n random products\n",
    "\n",
    "print(\"Average similarity among random products\", get_average_similairty_among_recommened_items(random_ids))"
   ]
  },
  {
   "cell_type": "markdown",
   "metadata": {},
   "source": [
    "We can pick several random users, make recommendations for them and average average similarity among recommended products."
   ]
  },
  {
   "cell_type": "code",
   "execution_count": 214,
   "metadata": {},
   "outputs": [
    {
     "name": "stdout",
     "output_type": "stream",
     "text": [
      "1. user\n",
      "Average similarity among recommended items 0.861\n",
      "Average similarity among random products 0.4750208078398244\n",
      "2. user\n",
      "Average similarity among recommended items 0.6170807168950778\n",
      "Average similarity among random products 0.5364807358684254\n",
      "3. user\n",
      "Average similarity among recommended items 0.6438654655244872\n",
      "Average similarity among random products 0.48168602998526266\n",
      "4. user\n",
      "Average similarity among recommended items 0.6091776695296638\n",
      "Average similarity among random products 0.6308522403646941\n",
      "5. user\n",
      "Average similarity among recommended items 0.6296564615223301\n",
      "Average similarity among random products 0.46703247926875846\n",
      "6. user\n",
      "Average similarity among recommended items 0.48850000000000005\n",
      "Average similarity among random products 0.48525426480542944\n",
      "7. user\n",
      "Average similarity among recommended items 0.5994692906356733\n",
      "Average similarity among random products 0.44823334547203386\n",
      "8. user\n",
      "Average similarity among recommended items 0.86\n",
      "Average similarity among random products 0.5509598729201166\n",
      "9. user\n",
      "Average similarity among recommended items 0.4760710678118654\n",
      "Average similarity among random products 0.46566878364870323\n",
      "10. user\n",
      "Average similarity among recommended items 0.7524914957130528\n",
      "Average similarity among random products 0.6415096490832122\n",
      "11. user\n",
      "Average similarity among recommended items 0.8130000000000001\n",
      "Average similarity among random products 0.5101776695296636\n",
      "12. user\n",
      "Average similarity among recommended items 0.777491495713053\n",
      "Average similarity among random products 0.6119192869997934\n",
      "13. user\n",
      "Average similarity among recommended items 0.42966496580927716\n",
      "Average similarity among random products 0.4793723681410662\n",
      "14. user\n",
      "Average similarity among recommended items 0.4816421356237309\n",
      "Average similarity among random products 0.46799561099350173\n",
      "15. user\n",
      "Average similarity among recommended items 0.7460710678118654\n",
      "Average similarity among random products 0.5609692906356734\n",
      "16. user\n",
      "Average similarity among recommended items 0.8921421356237309\n",
      "Average similarity among random products 0.4058991550070429\n",
      "17. user\n",
      "Average similarity among recommended items 0.827\n",
      "Average similarity among random products 0.5366104516296407\n",
      "18. user\n",
      "Average similarity among recommended items 0.8231649658092772\n",
      "Average similarity among random products 0.5141978115661011\n",
      "19. user\n",
      "Average similarity among recommended items 0.8824720672422854\n",
      "Average similarity among random products 0.5117082039324994\n",
      "20. user\n",
      "Average similarity among recommended items 0.6160710678118655\n",
      "Average similarity among random products 0.5129156383156273\n",
      "21. user\n",
      "Average similarity among recommended items 0.6725\n",
      "Average similarity among random products 0.47107106781186553\n",
      "22. user\n",
      "Average similarity among recommended items 0.8150000000000001\n",
      "Average similarity among random products 0.45560736492004994\n",
      "23. user\n",
      "Average similarity among recommended items 0.43607106781186544\n",
      "Average similarity among random products 0.618842669695298\n",
      "24. user\n",
      "Average similarity among recommended items 0.692578191578136\n",
      "Average similarity among random products 0.5691776695296638\n",
      "25. user\n",
      "Average similarity among recommended items 0.48\n",
      "Average similarity among random products 0.4680000000000001\n",
      "26. user\n",
      "Average similarity among recommended items 0.733\n",
      "Average similarity among random products 0.41568616900054367\n",
      "27. user\n",
      "Average similarity among recommended items 0.5825355339059328\n",
      "Average similarity among random products 0.46504700538379257\n",
      "28. user\n",
      "Average similarity among recommended items 0.7149897948556634\n",
      "Average similarity among random products 0.47650988339064365\n",
      "29. user\n",
      "Average similarity among recommended items 0.7953333333333332\n",
      "Average similarity among random products 0.37219675448336914\n",
      "30. user\n",
      "Average similarity among recommended items 0.4541180168105713\n",
      "Average similarity among random products 0.5511245892278799\n",
      "31. user\n",
      "Average similarity among recommended items 0.7934493498269124\n",
      "Average similarity among random products 0.5008204598018514\n",
      "32. user\n",
      "Average similarity among recommended items 0.6971581623797196\n",
      "Average similarity among random products 0.4941199257302844\n",
      "33. user\n",
      "Average similarity among recommended items 0.8098316324759439\n",
      "Average similarity among random products 0.542197811566101\n",
      "34. user\n",
      "Average similarity among recommended items 0.7849348237118784\n",
      "Average similarity among random products 0.5237563185677322\n",
      "35. user\n",
      "Average similarity among recommended items 0.6259264068711928\n",
      "Average similarity among random products 0.4575324792687586\n",
      "36. user\n",
      "Average similarity among recommended items 0.8789999999999999\n",
      "Average similarity among random products 0.3900048245416061\n",
      "37. user\n",
      "Average similarity among recommended items 0.7192132034355964\n",
      "Average similarity among random products 0.5699385812713469\n",
      "38. user\n",
      "Average similarity among recommended items 0.6250710678118654\n",
      "Average similarity among random products 0.5647132034355964\n",
      "39. user\n",
      "Average similarity among recommended items 0.7526396103067892\n",
      "Average similarity among random products 0.5512132034355967\n",
      "40. user\n",
      "Average similarity among recommended items 0.7452804573029069\n",
      "Average similarity among random products 0.43207106781186555\n",
      "41. user\n",
      "Average similarity among recommended items 0.8086396103067892\n",
      "Average similarity among random products 0.5698559855965348\n",
      "42. user\n",
      "Average similarity among recommended items 0.4305\n",
      "Average similarity among random products 0.5385942489698874\n",
      "43. user\n",
      "Average similarity among recommended items 0.5367487373415292\n",
      "Average similarity among random products 0.5087734764467885\n",
      "44. user\n",
      "Average similarity among recommended items 0.6337596186554009\n",
      "Average similarity among random products 0.5361909935421499\n",
      "45. user\n",
      "Average similarity among recommended items 0.8061891410075235\n",
      "Average similarity among random products 0.4991909935421499\n",
      "46. user\n",
      "Average similarity among recommended items 0.877\n",
      "Average similarity among random products 0.43858248290463864\n",
      "47. user\n",
      "Average similarity among recommended items 0.8029999999999999\n",
      "Average similarity among random products 0.5652132034355964\n",
      "48. user\n",
      "Average similarity among recommended items 0.834\n",
      "Average similarity among random products 0.5394933530637464\n",
      "49. user\n",
      "Average similarity among recommended items 0.40470240863492296\n",
      "Average similarity among random products 0.4510048245416062\n",
      "50. user\n",
      "Average similarity among recommended items 0.3746698247072404\n",
      "Average similarity among random products 0.4887246185283696\n"
     ]
    }
   ],
   "source": [
    "avg_recommended_similarities = []\n",
    "avg_random_similarities = []\n",
    "\n",
    "n_recommended_items = 20\n",
    "n_users = 50\n",
    "\n",
    "for i, user_id in enumerate(np.random.permutation(list(user_mapping.keys()))[:n_users]):\n",
    "    print(str(i+1)+\". user\")\n",
    "    user_idx = user_mapping[user_id]\n",
    "\n",
    "    product_idxs = np.array(list(item_mapping.values()))\n",
    "    product_ids = np.array(list(item_mapping.keys()))\n",
    "\n",
    "    scores = model.predict([user_idx], list(item_mapping.values()))\n",
    "\n",
    "    sorted_idxs = np.argsort(-scores)[:n_recommended_items]\n",
    "\n",
    "    recommended_item_ids = product_ids[sorted_idxs]\n",
    "    \n",
    "    avg_recommended_similarities.append(get_average_similairty_among_recommened_items(recommended_item_ids))\n",
    "    print(\"Average similarity among recommended items\", avg_recommended_similarities[-1])\n",
    "    \n",
    "    np.random.shuffle(product_ids)\n",
    "    random_ids = product_ids[:n_recommended_items]\n",
    "\n",
    "    avg_random_similarities.append(get_average_similairty_among_recommened_items(random_ids))\n",
    "    print(\"Average similarity among random products\", avg_random_similarities[-1])\n"
   ]
  },
  {
   "cell_type": "markdown",
   "metadata": {},
   "source": [
    "Average similarity among recommended products is much higher than similarity among randomly selected products. This leads me to conclusion that both models work and output reasonable data."
   ]
  },
  {
   "cell_type": "code",
   "execution_count": 204,
   "metadata": {},
   "outputs": [
    {
     "name": "stdout",
     "output_type": "stream",
     "text": [
      "Average similarity among recommended products 0.6874085727086827\n",
      "Average similarity among random products  0.49682225586372825\n"
     ]
    }
   ],
   "source": [
    "print(\"Average similarity among recommended products\", np.mean(avg_recommended_similarities))\n",
    "print(\"Average similarity among random products \", np.mean(avg_random_similarities))"
   ]
  },
  {
   "cell_type": "markdown",
   "metadata": {},
   "source": [
    "<p>\n",
    "This noteboks shows how collaborative recommender system is build. Most of the code was used in flask application where I created 3 recommender systems(SimilarityRecommender, PopRecommender, LightFmRecommender). The system decides to use one of them for making recommendations based on how many products had a user seen. If the user is new and has no interaction with the system only most popular products are recommended. If the user has only few interactions with products, similar products are recommended. If the user has more interactions, this model is used. This logic is coded in Controller class in get_recommendations method:\n",
    "</p>"
   ]
  },
  {
   "cell_type": "code",
   "execution_count": null,
   "metadata": {},
   "outputs": [],
   "source": [
    "class Controller:\n",
    "\n",
    "    def __init__(self):\n",
    "        self.similarityRecommender = SimilarityRecommender()\n",
    "        self.popRecommender = PopRecommender()\n",
    "        self.lightFmRecommender = LightFmRecommender()\n",
    "\n",
    "    def train(self):\n",
    "        self.similarityRecommender.train()\n",
    "        self.popRecommender.train()\n",
    "        self.lightFmRecommender.train()\n",
    "\n",
    "    def get_n_most_similar_products(self, product_id, n):\n",
    "        return self.similarityRecommender.get_n_most_similar_products(product_id, n)\n",
    "\n",
    "    def get_similarity_between_products(self, product_id1, product_id2):\n",
    "        return self.similarityRecommender.get_similarity_between_products(product_id1, product_id2)\n",
    "\n",
    "    def get_recommendations(self, customer_id, n):\n",
    "        if self.lightFmRecommender.can_recommend(customer_id\n",
    "                                                 \n",
    "            return self.lightFmRecommender.recommend(customer_id, n)\n",
    "                                                 \n",
    "        if self.similarityRecommender.can_recommend(customer_id):\n",
    "                                                 \n",
    "            return self.similarityRecommender.recommend(customer_id, n)\n",
    "        else:\n",
    "            return self.popRecommender.recommend(n)"
   ]
  },
  {
   "cell_type": "markdown",
   "metadata": {},
   "source": [
    "The controller class composes three recommender models. All the models are inherited from the same abstract class RecommenderABC. Names of the methods are self explanatory."
   ]
  },
  {
   "cell_type": "code",
   "execution_count": 216,
   "metadata": {},
   "outputs": [],
   "source": [
    "from abc import ABC, abstractmethod\n",
    "\n",
    "class RecommenderABC(ABC):\n",
    "    \n",
    "    @abstractmethod\n",
    "    def train(self):\n",
    "        pass\n",
    "    \n",
    "    @abstractmethod\n",
    "    def can_recommend(self):\n",
    "        pass\n",
    "    \n",
    "    @abstractmethod\n",
    "    def recommend(self):\n",
    "        pass"
   ]
  },
  {
   "cell_type": "markdown",
   "metadata": {},
   "source": [
    "The controller is called from routes.py which contains following endpoints:\n",
    "<ul>\n",
    "    <li>http://127.0.0.1:5000/recommender/train - trains all three models</li>\n",
    "    <li>http://127.0.0.1:5000/similarity/&lt;int:product_id&gt; - returns n most similar products to a product_id</li>\n",
    "    <li>http://127.0.0.1:5000/similarity/&lt;int:product_id1&gt;/&lt;int:product_id2&gt; - returns similarity between two products</li>\n",
    "    <li>http://127.0.0.1:5000/recommender/&lt;int:customer_id&gt; - returns recommened items for customer_id</li>\n",
    "</ul>"
   ]
  },
  {
   "cell_type": "code",
   "execution_count": null,
   "metadata": {},
   "outputs": [],
   "source": []
  }
 ],
 "metadata": {
  "kernelspec": {
   "display_name": "Python 3",
   "language": "python",
   "name": "python3"
  },
  "language_info": {
   "codemirror_mode": {
    "name": "ipython",
    "version": 3
   },
   "file_extension": ".py",
   "mimetype": "text/x-python",
   "name": "python",
   "nbconvert_exporter": "python",
   "pygments_lexer": "ipython3",
   "version": "3.7.3"
  }
 },
 "nbformat": 4,
 "nbformat_minor": 2
}
