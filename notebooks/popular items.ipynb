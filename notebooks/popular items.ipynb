{
 "cells": [
  {
   "cell_type": "code",
   "execution_count": 25,
   "metadata": {},
   "outputs": [],
   "source": [
    "import pandas as pd\n",
    "import numpy as np\n",
    "import matplotlib.pyplot as plt"
   ]
  },
  {
   "cell_type": "code",
   "execution_count": 26,
   "metadata": {},
   "outputs": [
    {
     "name": "stdout",
     "output_type": "stream",
     "text": [
      "(653419, 4)\n"
     ]
    },
    {
     "data": {
      "text/html": [
       "<div>\n",
       "<style scoped>\n",
       "    .dataframe tbody tr th:only-of-type {\n",
       "        vertical-align: middle;\n",
       "    }\n",
       "\n",
       "    .dataframe tbody tr th {\n",
       "        vertical-align: top;\n",
       "    }\n",
       "\n",
       "    .dataframe thead th {\n",
       "        text-align: right;\n",
       "    }\n",
       "</style>\n",
       "<table border=\"1\" class=\"dataframe\">\n",
       "  <thead>\n",
       "    <tr style=\"text-align: right;\">\n",
       "      <th></th>\n",
       "      <th>customer_id</th>\n",
       "      <th>product_id</th>\n",
       "      <th>type</th>\n",
       "      <th>timestamp</th>\n",
       "    </tr>\n",
       "  </thead>\n",
       "  <tbody>\n",
       "    <tr>\n",
       "      <th>0</th>\n",
       "      <td>1</td>\n",
       "      <td>19685</td>\n",
       "      <td>view_product</td>\n",
       "      <td>1527812004</td>\n",
       "    </tr>\n",
       "    <tr>\n",
       "      <th>1</th>\n",
       "      <td>1</td>\n",
       "      <td>19685</td>\n",
       "      <td>view_product</td>\n",
       "      <td>1527812041</td>\n",
       "    </tr>\n",
       "    <tr>\n",
       "      <th>2</th>\n",
       "      <td>1</td>\n",
       "      <td>19685</td>\n",
       "      <td>add_to_cart</td>\n",
       "      <td>1527812046</td>\n",
       "    </tr>\n",
       "    <tr>\n",
       "      <th>3</th>\n",
       "      <td>1</td>\n",
       "      <td>19685</td>\n",
       "      <td>view_product</td>\n",
       "      <td>1527812048</td>\n",
       "    </tr>\n",
       "    <tr>\n",
       "      <th>4</th>\n",
       "      <td>1</td>\n",
       "      <td>19685</td>\n",
       "      <td>view_product</td>\n",
       "      <td>1527812050</td>\n",
       "    </tr>\n",
       "  </tbody>\n",
       "</table>\n",
       "</div>"
      ],
      "text/plain": [
       "   customer_id  product_id          type   timestamp\n",
       "0            1       19685  view_product  1527812004\n",
       "1            1       19685  view_product  1527812041\n",
       "2            1       19685   add_to_cart  1527812046\n",
       "3            1       19685  view_product  1527812048\n",
       "4            1       19685  view_product  1527812050"
      ]
     },
     "execution_count": 26,
     "metadata": {},
     "output_type": "execute_result"
    }
   ],
   "source": [
    "events = pd.read_csv(\"dataset_events.csv\")\n",
    "print(events.shape)\n",
    "events.head()"
   ]
  },
  {
   "cell_type": "code",
   "execution_count": 27,
   "metadata": {
    "scrolled": true
   },
   "outputs": [
    {
     "data": {
      "text/plain": [
       "(1970-01-01    653419\n",
       " Name: date, dtype: int64, (653419, 5))"
      ]
     },
     "execution_count": 27,
     "metadata": {},
     "output_type": "execute_result"
    }
   ],
   "source": [
    "\n",
    "events.loc[pd.to_datetime(events['timestamp']).index, 'date'] = pd.to_datetime(events['timestamp']).values\n",
    "events['date'] = events['date'].apply(lambda x: str(x).split()[0])\n",
    "events['date'].value_counts(), events.shape"
   ]
  },
  {
   "cell_type": "code",
   "execution_count": 28,
   "metadata": {},
   "outputs": [
    {
     "data": {
      "text/html": [
       "<div>\n",
       "<style scoped>\n",
       "    .dataframe tbody tr th:only-of-type {\n",
       "        vertical-align: middle;\n",
       "    }\n",
       "\n",
       "    .dataframe tbody tr th {\n",
       "        vertical-align: top;\n",
       "    }\n",
       "\n",
       "    .dataframe thead th {\n",
       "        text-align: right;\n",
       "    }\n",
       "</style>\n",
       "<table border=\"1\" class=\"dataframe\">\n",
       "  <thead>\n",
       "    <tr style=\"text-align: right;\">\n",
       "      <th></th>\n",
       "      <th>customer_id</th>\n",
       "      <th>product_id</th>\n",
       "      <th>type</th>\n",
       "    </tr>\n",
       "  </thead>\n",
       "  <tbody>\n",
       "    <tr>\n",
       "      <th>161</th>\n",
       "      <td>44</td>\n",
       "      <td>24129</td>\n",
       "      <td>purchase_item</td>\n",
       "    </tr>\n",
       "    <tr>\n",
       "      <th>162</th>\n",
       "      <td>44</td>\n",
       "      <td>3814</td>\n",
       "      <td>purchase_item</td>\n",
       "    </tr>\n",
       "    <tr>\n",
       "      <th>360</th>\n",
       "      <td>121</td>\n",
       "      <td>16959</td>\n",
       "      <td>purchase_item</td>\n",
       "    </tr>\n",
       "    <tr>\n",
       "      <th>396</th>\n",
       "      <td>132</td>\n",
       "      <td>3536</td>\n",
       "      <td>purchase_item</td>\n",
       "    </tr>\n",
       "    <tr>\n",
       "      <th>649</th>\n",
       "      <td>234</td>\n",
       "      <td>26045</td>\n",
       "      <td>purchase_item</td>\n",
       "    </tr>\n",
       "  </tbody>\n",
       "</table>\n",
       "</div>"
      ],
      "text/plain": [
       "     customer_id  product_id           type\n",
       "161           44       24129  purchase_item\n",
       "162           44        3814  purchase_item\n",
       "360          121       16959  purchase_item\n",
       "396          132        3536  purchase_item\n",
       "649          234       26045  purchase_item"
      ]
     },
     "execution_count": 28,
     "metadata": {},
     "output_type": "execute_result"
    }
   ],
   "source": [
    "purchases = events[events.type == 'purchase_item'].drop(columns=['timestamp', 'date'])\n",
    "carts = events[events.type == 'add_to_cart'].drop(columns=['timestamp', 'date'])\n",
    "views = events[events.type == 'view_product'].drop(columns=['timestamp', 'date'])\n",
    "\n",
    "purchases.head()"
   ]
  },
  {
   "cell_type": "code",
   "execution_count": 29,
   "metadata": {},
   "outputs": [
    {
     "data": {
      "text/html": [
       "<div>\n",
       "<style scoped>\n",
       "    .dataframe tbody tr th:only-of-type {\n",
       "        vertical-align: middle;\n",
       "    }\n",
       "\n",
       "    .dataframe tbody tr th {\n",
       "        vertical-align: top;\n",
       "    }\n",
       "\n",
       "    .dataframe thead th {\n",
       "        text-align: right;\n",
       "    }\n",
       "</style>\n",
       "<table border=\"1\" class=\"dataframe\">\n",
       "  <thead>\n",
       "    <tr style=\"text-align: right;\">\n",
       "      <th></th>\n",
       "      <th>customer_id</th>\n",
       "      <th>product_id</th>\n",
       "      <th>type</th>\n",
       "    </tr>\n",
       "  </thead>\n",
       "  <tbody>\n",
       "    <tr>\n",
       "      <th>161</th>\n",
       "      <td>44</td>\n",
       "      <td>24129</td>\n",
       "      <td>purchase_item</td>\n",
       "    </tr>\n",
       "    <tr>\n",
       "      <th>162</th>\n",
       "      <td>44</td>\n",
       "      <td>3814</td>\n",
       "      <td>purchase_item</td>\n",
       "    </tr>\n",
       "    <tr>\n",
       "      <th>360</th>\n",
       "      <td>121</td>\n",
       "      <td>16959</td>\n",
       "      <td>purchase_item</td>\n",
       "    </tr>\n",
       "    <tr>\n",
       "      <th>396</th>\n",
       "      <td>132</td>\n",
       "      <td>3536</td>\n",
       "      <td>purchase_item</td>\n",
       "    </tr>\n",
       "    <tr>\n",
       "      <th>649</th>\n",
       "      <td>234</td>\n",
       "      <td>26045</td>\n",
       "      <td>purchase_item</td>\n",
       "    </tr>\n",
       "  </tbody>\n",
       "</table>\n",
       "</div>"
      ],
      "text/plain": [
       "     customer_id  product_id           type\n",
       "161           44       24129  purchase_item\n",
       "162           44        3814  purchase_item\n",
       "360          121       16959  purchase_item\n",
       "396          132        3536  purchase_item\n",
       "649          234       26045  purchase_item"
      ]
     },
     "execution_count": 29,
     "metadata": {},
     "output_type": "execute_result"
    }
   ],
   "source": [
    "purchases_with_no_duplicates = purchases.drop_duplicates(['product_id', 'customer_id'])\n",
    "add_cart_with_no_duplicates = carts.drop_duplicates(['product_id', 'customer_id'])\n",
    "views_with_no_duplicates = views.drop_duplicates(['product_id', 'customer_id'])\n",
    "\n",
    "purchases_with_no_duplicates.head()"
   ]
  },
  {
   "cell_type": "code",
   "execution_count": 38,
   "metadata": {
    "scrolled": true
   },
   "outputs": [
    {
     "data": {
      "text/html": [
       "<div>\n",
       "<style scoped>\n",
       "    .dataframe tbody tr th:only-of-type {\n",
       "        vertical-align: middle;\n",
       "    }\n",
       "\n",
       "    .dataframe tbody tr th {\n",
       "        vertical-align: top;\n",
       "    }\n",
       "\n",
       "    .dataframe thead th {\n",
       "        text-align: right;\n",
       "    }\n",
       "</style>\n",
       "<table border=\"1\" class=\"dataframe\">\n",
       "  <thead>\n",
       "    <tr style=\"text-align: right;\">\n",
       "      <th></th>\n",
       "      <th>product_id</th>\n",
       "      <th>n_unique_views</th>\n",
       "    </tr>\n",
       "  </thead>\n",
       "  <tbody>\n",
       "    <tr>\n",
       "      <th>22024</th>\n",
       "      <td>22031</td>\n",
       "      <td>2052</td>\n",
       "    </tr>\n",
       "    <tr>\n",
       "      <th>11215</th>\n",
       "      <td>11219</td>\n",
       "      <td>1884</td>\n",
       "    </tr>\n",
       "    <tr>\n",
       "      <th>25009</th>\n",
       "      <td>25016</td>\n",
       "      <td>1832</td>\n",
       "    </tr>\n",
       "    <tr>\n",
       "      <th>21115</th>\n",
       "      <td>21122</td>\n",
       "      <td>1621</td>\n",
       "    </tr>\n",
       "    <tr>\n",
       "      <th>20584</th>\n",
       "      <td>20591</td>\n",
       "      <td>1473</td>\n",
       "    </tr>\n",
       "  </tbody>\n",
       "</table>\n",
       "</div>"
      ],
      "text/plain": [
       "       product_id  n_unique_views\n",
       "22024       22031            2052\n",
       "11215       11219            1884\n",
       "25009       25016            1832\n",
       "21115       21122            1621\n",
       "20584       20591            1473"
      ]
     },
     "execution_count": 38,
     "metadata": {},
     "output_type": "execute_result"
    }
   ],
   "source": [
    "grouped_purchases_count_by_product_id = purchases_with_no_duplicates.groupby(['product_id']).customer_id.agg('count').to_frame('n_unique_purchases').reset_index()\n",
    "sorted_popular_items_by_purchase = grouped_purchases_count_by_product_id.sort_values('n_unique_purchases', ascending=False)\n",
    "\n",
    "grouped_carts_count_by_product_id = add_cart_with_no_duplicates.groupby(['product_id']).customer_id.agg('count').to_frame('n_unique_cart_adds').reset_index()\n",
    "sorted_popular_items_by_cart_add = grouped_carts_count_by_product_id.sort_values('n_unique_cart_adds', ascending=False)\n",
    "\n",
    "grouped_views_count_by_product_id = views_with_no_duplicates.groupby(['product_id']).customer_id.agg('count').to_frame('n_unique_views').reset_index()\n",
    "sorted_popular_items_by_views = grouped_views_count_by_product_id.sort_values('n_unique_views', ascending=False)\n",
    "\n",
    "sorted_popular_items_by_views.head()"
   ]
  },
  {
   "cell_type": "code",
   "execution_count": 33,
   "metadata": {},
   "outputs": [
    {
     "data": {
      "text/plain": [
       "array([22031, 11219, 25016, ...,  5599,  5600, 28369], dtype=int64)"
      ]
     },
     "execution_count": 33,
     "metadata": {},
     "output_type": "execute_result"
    }
   ],
   "source": [
    "sorted_popular_items_by_views.product_id.values"
   ]
  },
  {
   "cell_type": "code",
   "execution_count": 34,
   "metadata": {},
   "outputs": [],
   "source": [
    "np.save(\"sorted_popular_items_by_purchase\", sorted_popular_items_by_purchase.product_id.values)\n",
    "np.save(\"solrted_popular_items_by_cart_add\", sorted_popular_items_by_cart_add.product_id.values)\n",
    "np.save(\"sorted_popular_items_by_views\", sorted_popular_items_by_views.product_id.values)"
   ]
  },
  {
   "cell_type": "code",
   "execution_count": null,
   "metadata": {},
   "outputs": [],
   "source": []
  }
 ],
 "metadata": {
  "kernelspec": {
   "display_name": "Python 3",
   "language": "python",
   "name": "python3"
  },
  "language_info": {
   "codemirror_mode": {
    "name": "ipython",
    "version": 3
   },
   "file_extension": ".py",
   "mimetype": "text/x-python",
   "name": "python",
   "nbconvert_exporter": "python",
   "pygments_lexer": "ipython3",
   "version": "3.7.3"
  }
 },
 "nbformat": 4,
 "nbformat_minor": 2
}
