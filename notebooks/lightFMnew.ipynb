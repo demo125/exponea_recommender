{
 "cells": [
  {
   "cell_type": "code",
   "execution_count": 1,
   "metadata": {},
   "outputs": [],
   "source": [
    "import pandas as pd\n",
    "import numpy as np\n",
    "import matplotlib.pyplot as plt"
   ]
  },
  {
   "cell_type": "code",
   "execution_count": 2,
   "metadata": {
    "scrolled": false
   },
   "outputs": [
    {
     "name": "stdout",
     "output_type": "stream",
     "text": [
      "(653419, 4)\n"
     ]
    },
    {
     "data": {
      "text/html": [
       "<div>\n",
       "<style scoped>\n",
       "    .dataframe tbody tr th:only-of-type {\n",
       "        vertical-align: middle;\n",
       "    }\n",
       "\n",
       "    .dataframe tbody tr th {\n",
       "        vertical-align: top;\n",
       "    }\n",
       "\n",
       "    .dataframe thead th {\n",
       "        text-align: right;\n",
       "    }\n",
       "</style>\n",
       "<table border=\"1\" class=\"dataframe\">\n",
       "  <thead>\n",
       "    <tr style=\"text-align: right;\">\n",
       "      <th></th>\n",
       "      <th>customer_id</th>\n",
       "      <th>product_id</th>\n",
       "      <th>type</th>\n",
       "      <th>timestamp</th>\n",
       "    </tr>\n",
       "  </thead>\n",
       "  <tbody>\n",
       "    <tr>\n",
       "      <th>0</th>\n",
       "      <td>1</td>\n",
       "      <td>19685</td>\n",
       "      <td>view_product</td>\n",
       "      <td>1527812004</td>\n",
       "    </tr>\n",
       "    <tr>\n",
       "      <th>1</th>\n",
       "      <td>1</td>\n",
       "      <td>19685</td>\n",
       "      <td>view_product</td>\n",
       "      <td>1527812041</td>\n",
       "    </tr>\n",
       "    <tr>\n",
       "      <th>2</th>\n",
       "      <td>1</td>\n",
       "      <td>19685</td>\n",
       "      <td>add_to_cart</td>\n",
       "      <td>1527812046</td>\n",
       "    </tr>\n",
       "    <tr>\n",
       "      <th>3</th>\n",
       "      <td>1</td>\n",
       "      <td>19685</td>\n",
       "      <td>view_product</td>\n",
       "      <td>1527812048</td>\n",
       "    </tr>\n",
       "    <tr>\n",
       "      <th>4</th>\n",
       "      <td>1</td>\n",
       "      <td>19685</td>\n",
       "      <td>view_product</td>\n",
       "      <td>1527812050</td>\n",
       "    </tr>\n",
       "  </tbody>\n",
       "</table>\n",
       "</div>"
      ],
      "text/plain": [
       "   customer_id  product_id          type   timestamp\n",
       "0            1       19685  view_product  1527812004\n",
       "1            1       19685  view_product  1527812041\n",
       "2            1       19685   add_to_cart  1527812046\n",
       "3            1       19685  view_product  1527812048\n",
       "4            1       19685  view_product  1527812050"
      ]
     },
     "execution_count": 2,
     "metadata": {},
     "output_type": "execute_result"
    }
   ],
   "source": [
    "events = pd.read_csv(\"dataset_events.csv\")\n",
    "print(events.shape)\n",
    "events.head()"
   ]
  },
  {
   "cell_type": "code",
   "execution_count": 3,
   "metadata": {},
   "outputs": [
    {
     "data": {
      "text/plain": [
       "<BarContainer object of 3 artists>"
      ]
     },
     "execution_count": 3,
     "metadata": {},
     "output_type": "execute_result"
    },
    {
     "data": {
      "image/png": "[encoded data removed]",
      "text/plain": [
       "<Figure size 432x288 with 1 Axes>"
      ]
     },
     "metadata": {
      "needs_background": "light"
     },
     "output_type": "display_data"
    }
   ],
   "source": [
    "plt.bar(events.type.value_counts().keys(), events.type.value_counts().values)"
   ]
  },
  {
   "cell_type": "code",
   "execution_count": 4,
   "metadata": {},
   "outputs": [
    {
     "data": {
      "text/html": [
       "<div>\n",
       "<style scoped>\n",
       "    .dataframe tbody tr th:only-of-type {\n",
       "        vertical-align: middle;\n",
       "    }\n",
       "\n",
       "    .dataframe tbody tr th {\n",
       "        vertical-align: top;\n",
       "    }\n",
       "\n",
       "    .dataframe thead th {\n",
       "        text-align: right;\n",
       "    }\n",
       "</style>\n",
       "<table border=\"1\" class=\"dataframe\">\n",
       "  <thead>\n",
       "    <tr style=\"text-align: right;\">\n",
       "      <th></th>\n",
       "      <th>customer_id</th>\n",
       "      <th>product_id</th>\n",
       "      <th>n_views</th>\n",
       "    </tr>\n",
       "  </thead>\n",
       "  <tbody>\n",
       "    <tr>\n",
       "      <th>0</th>\n",
       "      <td>1</td>\n",
       "      <td>19685</td>\n",
       "      <td>4</td>\n",
       "    </tr>\n",
       "    <tr>\n",
       "      <th>1</th>\n",
       "      <td>2</td>\n",
       "      <td>7953</td>\n",
       "      <td>1</td>\n",
       "    </tr>\n",
       "    <tr>\n",
       "      <th>2</th>\n",
       "      <td>3</td>\n",
       "      <td>5156</td>\n",
       "      <td>1</td>\n",
       "    </tr>\n",
       "    <tr>\n",
       "      <th>3</th>\n",
       "      <td>3</td>\n",
       "      <td>5157</td>\n",
       "      <td>1</td>\n",
       "    </tr>\n",
       "    <tr>\n",
       "      <th>4</th>\n",
       "      <td>4</td>\n",
       "      <td>4633</td>\n",
       "      <td>1</td>\n",
       "    </tr>\n",
       "  </tbody>\n",
       "</table>\n",
       "</div>"
      ],
      "text/plain": [
       "   customer_id  product_id  n_views\n",
       "0            1       19685        4\n",
       "1            2        7953        1\n",
       "2            3        5156        1\n",
       "3            3        5157        1\n",
       "4            4        4633        1"
      ]
     },
     "execution_count": 4,
     "metadata": {},
     "output_type": "execute_result"
    }
   ],
   "source": [
    "only_views = events[events.type==\"view_product\"].drop(columns=['type', 'timestamp'])\n",
    "grouped_views_by_customer_id = only_views.groupby(['customer_id', 'product_id']).product_id.agg('count').to_frame('n_views').reset_index()\n",
    "grouped_views_by_customer_id.head()"
   ]
  },
  {
   "cell_type": "code",
   "execution_count": 5,
   "metadata": {},
   "outputs": [
    {
     "data": {
      "text/html": [
       "<div>\n",
       "<style scoped>\n",
       "    .dataframe tbody tr th:only-of-type {\n",
       "        vertical-align: middle;\n",
       "    }\n",
       "\n",
       "    .dataframe tbody tr th {\n",
       "        vertical-align: top;\n",
       "    }\n",
       "\n",
       "    .dataframe thead th {\n",
       "        text-align: right;\n",
       "    }\n",
       "</style>\n",
       "<table border=\"1\" class=\"dataframe\">\n",
       "  <thead>\n",
       "    <tr style=\"text-align: right;\">\n",
       "      <th></th>\n",
       "      <th>customer_id</th>\n",
       "      <th>product_id</th>\n",
       "      <th>n_cart</th>\n",
       "    </tr>\n",
       "  </thead>\n",
       "  <tbody>\n",
       "    <tr>\n",
       "      <th>0</th>\n",
       "      <td>1</td>\n",
       "      <td>19685</td>\n",
       "      <td>1</td>\n",
       "    </tr>\n",
       "    <tr>\n",
       "      <th>1</th>\n",
       "      <td>5</td>\n",
       "      <td>8589</td>\n",
       "      <td>1</td>\n",
       "    </tr>\n",
       "    <tr>\n",
       "      <th>2</th>\n",
       "      <td>7</td>\n",
       "      <td>3151</td>\n",
       "      <td>1</td>\n",
       "    </tr>\n",
       "    <tr>\n",
       "      <th>3</th>\n",
       "      <td>7</td>\n",
       "      <td>13690</td>\n",
       "      <td>1</td>\n",
       "    </tr>\n",
       "    <tr>\n",
       "      <th>4</th>\n",
       "      <td>7</td>\n",
       "      <td>14463</td>\n",
       "      <td>1</td>\n",
       "    </tr>\n",
       "  </tbody>\n",
       "</table>\n",
       "</div>"
      ],
      "text/plain": [
       "   customer_id  product_id  n_cart\n",
       "0            1       19685       1\n",
       "1            5        8589       1\n",
       "2            7        3151       1\n",
       "3            7       13690       1\n",
       "4            7       14463       1"
      ]
     },
     "execution_count": 5,
     "metadata": {},
     "output_type": "execute_result"
    }
   ],
   "source": [
    "only_cart = events[events.type==\"add_to_cart\"].drop(columns=['type', 'timestamp'])\n",
    "grouped_cart_by_customer_id = only_cart.groupby(['customer_id', 'product_id']).product_id.agg('count').to_frame('n_cart').reset_index()\n",
    "grouped_cart_by_customer_id.head()"
   ]
  },
  {
   "cell_type": "code",
   "execution_count": 6,
   "metadata": {},
   "outputs": [
    {
     "data": {
      "text/html": [
       "<div>\n",
       "<style scoped>\n",
       "    .dataframe tbody tr th:only-of-type {\n",
       "        vertical-align: middle;\n",
       "    }\n",
       "\n",
       "    .dataframe tbody tr th {\n",
       "        vertical-align: top;\n",
       "    }\n",
       "\n",
       "    .dataframe thead th {\n",
       "        text-align: right;\n",
       "    }\n",
       "</style>\n",
       "<table border=\"1\" class=\"dataframe\">\n",
       "  <thead>\n",
       "    <tr style=\"text-align: right;\">\n",
       "      <th></th>\n",
       "      <th>customer_id</th>\n",
       "      <th>product_id</th>\n",
       "      <th>n_purchases</th>\n",
       "    </tr>\n",
       "  </thead>\n",
       "  <tbody>\n",
       "    <tr>\n",
       "      <th>0</th>\n",
       "      <td>10</td>\n",
       "      <td>6963</td>\n",
       "      <td>1</td>\n",
       "    </tr>\n",
       "    <tr>\n",
       "      <th>1</th>\n",
       "      <td>22</td>\n",
       "      <td>4209</td>\n",
       "      <td>1</td>\n",
       "    </tr>\n",
       "    <tr>\n",
       "      <th>2</th>\n",
       "      <td>22</td>\n",
       "      <td>27912</td>\n",
       "      <td>1</td>\n",
       "    </tr>\n",
       "    <tr>\n",
       "      <th>3</th>\n",
       "      <td>43</td>\n",
       "      <td>24413</td>\n",
       "      <td>1</td>\n",
       "    </tr>\n",
       "    <tr>\n",
       "      <th>4</th>\n",
       "      <td>44</td>\n",
       "      <td>3814</td>\n",
       "      <td>1</td>\n",
       "    </tr>\n",
       "  </tbody>\n",
       "</table>\n",
       "</div>"
      ],
      "text/plain": [
       "   customer_id  product_id  n_purchases\n",
       "0           10        6963            1\n",
       "1           22        4209            1\n",
       "2           22       27912            1\n",
       "3           43       24413            1\n",
       "4           44        3814            1"
      ]
     },
     "execution_count": 6,
     "metadata": {},
     "output_type": "execute_result"
    }
   ],
   "source": [
    "only_purchases = events[events.type==\"purchase_item\"].drop(columns=['type', 'timestamp'])\n",
    "grouped_purchases_by_customer_id = only_purchases.groupby(['customer_id', 'product_id']).product_id.agg('count').to_frame('n_purchases').reset_index()\n",
    "grouped_purchases_by_customer_id.head()"
   ]
  },
  {
   "cell_type": "code",
   "execution_count": 7,
   "metadata": {},
   "outputs": [
    {
     "data": {
      "text/html": [
       "<div>\n",
       "<style scoped>\n",
       "    .dataframe tbody tr th:only-of-type {\n",
       "        vertical-align: middle;\n",
       "    }\n",
       "\n",
       "    .dataframe tbody tr th {\n",
       "        vertical-align: top;\n",
       "    }\n",
       "\n",
       "    .dataframe thead th {\n",
       "        text-align: right;\n",
       "    }\n",
       "</style>\n",
       "<table border=\"1\" class=\"dataframe\">\n",
       "  <thead>\n",
       "    <tr style=\"text-align: right;\">\n",
       "      <th></th>\n",
       "      <th>customer_id</th>\n",
       "      <th>product_id</th>\n",
       "      <th>n_views</th>\n",
       "      <th>n_cart</th>\n",
       "      <th>n_purchases</th>\n",
       "    </tr>\n",
       "  </thead>\n",
       "  <tbody>\n",
       "    <tr>\n",
       "      <th>0</th>\n",
       "      <td>1</td>\n",
       "      <td>19685</td>\n",
       "      <td>4.0</td>\n",
       "      <td>1.0</td>\n",
       "      <td>0.0</td>\n",
       "    </tr>\n",
       "    <tr>\n",
       "      <th>1</th>\n",
       "      <td>2</td>\n",
       "      <td>7953</td>\n",
       "      <td>1.0</td>\n",
       "      <td>0.0</td>\n",
       "      <td>0.0</td>\n",
       "    </tr>\n",
       "    <tr>\n",
       "      <th>2</th>\n",
       "      <td>3</td>\n",
       "      <td>5156</td>\n",
       "      <td>1.0</td>\n",
       "      <td>0.0</td>\n",
       "      <td>0.0</td>\n",
       "    </tr>\n",
       "    <tr>\n",
       "      <th>3</th>\n",
       "      <td>3</td>\n",
       "      <td>5157</td>\n",
       "      <td>1.0</td>\n",
       "      <td>0.0</td>\n",
       "      <td>0.0</td>\n",
       "    </tr>\n",
       "    <tr>\n",
       "      <th>4</th>\n",
       "      <td>4</td>\n",
       "      <td>21122</td>\n",
       "      <td>4.0</td>\n",
       "      <td>0.0</td>\n",
       "      <td>0.0</td>\n",
       "    </tr>\n",
       "  </tbody>\n",
       "</table>\n",
       "</div>"
      ],
      "text/plain": [
       "   customer_id  product_id  n_views  n_cart  n_purchases\n",
       "0            1       19685      4.0     1.0          0.0\n",
       "1            2        7953      1.0     0.0          0.0\n",
       "2            3        5156      1.0     0.0          0.0\n",
       "3            3        5157      1.0     0.0          0.0\n",
       "4            4       21122      4.0     0.0          0.0"
      ]
     },
     "execution_count": 7,
     "metadata": {},
     "output_type": "execute_result"
    }
   ],
   "source": [
    "customer_product = events[['customer_id', 'product_id']].drop_duplicates().reset_index(drop=True)\n",
    "event_counts = pd.merge(customer_product, grouped_views_by_customer_id,  how='left', left_on=['customer_id','product_id'], right_on = ['customer_id','product_id'])\n",
    "event_counts['n_views'].fillna(0, inplace=True)\n",
    "event_counts = pd.merge(event_counts, grouped_cart_by_customer_id,  how='left', left_on=['customer_id','product_id'], right_on = ['customer_id','product_id'])\n",
    "event_counts['n_cart'].fillna(0, inplace=True)\n",
    "event_counts = pd.merge(event_counts, grouped_purchases_by_customer_id,  how='left', left_on=['customer_id','product_id'], right_on = ['customer_id','product_id'])\n",
    "event_counts['n_purchases'].fillna(0, inplace=True)\n",
    "event_counts.head()"
   ]
  },
  {
   "cell_type": "code",
   "execution_count": 8,
   "metadata": {},
   "outputs": [
    {
     "name": "stdout",
     "output_type": "stream",
     "text": [
      "592299.0 (592299, 4)\n",
      "46121.0 (46121, 4)\n",
      "14999.0 (14999, 4)\n"
     ]
    },
    {
     "data": {
      "text/plain": [
       "((357930, 5), (357930, 2))"
      ]
     },
     "execution_count": 8,
     "metadata": {},
     "output_type": "execute_result"
    }
   ],
   "source": [
    "print(event_counts['n_views'].sum(), events[events.type==\"view_product\"].shape)\n",
    "print(event_counts['n_cart'].sum(), events[events.type==\"add_to_cart\"].shape)\n",
    "print(event_counts['n_purchases'].sum(), events[events.type==\"purchase_item\"].shape)\n",
    "\n",
    "event_counts.shape, events[['product_id', 'customer_id']].drop_duplicates().shape"
   ]
  },
  {
   "cell_type": "code",
   "execution_count": 9,
   "metadata": {
    "scrolled": true
   },
   "outputs": [
    {
     "data": {
      "text/html": [
       "<div>\n",
       "<style scoped>\n",
       "    .dataframe tbody tr th:only-of-type {\n",
       "        vertical-align: middle;\n",
       "    }\n",
       "\n",
       "    .dataframe tbody tr th {\n",
       "        vertical-align: top;\n",
       "    }\n",
       "\n",
       "    .dataframe thead th {\n",
       "        text-align: right;\n",
       "    }\n",
       "</style>\n",
       "<table border=\"1\" class=\"dataframe\">\n",
       "  <thead>\n",
       "    <tr style=\"text-align: right;\">\n",
       "      <th></th>\n",
       "      <th>customer_id</th>\n",
       "      <th>product_id</th>\n",
       "      <th>n_views</th>\n",
       "      <th>n_cart</th>\n",
       "      <th>n_purchases</th>\n",
       "      <th>rating</th>\n",
       "    </tr>\n",
       "  </thead>\n",
       "  <tbody>\n",
       "    <tr>\n",
       "      <th>0</th>\n",
       "      <td>1</td>\n",
       "      <td>19685</td>\n",
       "      <td>4.0</td>\n",
       "      <td>1.0</td>\n",
       "      <td>0.0</td>\n",
       "      <td>3</td>\n",
       "    </tr>\n",
       "    <tr>\n",
       "      <th>1</th>\n",
       "      <td>2</td>\n",
       "      <td>7953</td>\n",
       "      <td>1.0</td>\n",
       "      <td>0.0</td>\n",
       "      <td>0.0</td>\n",
       "      <td>1</td>\n",
       "    </tr>\n",
       "    <tr>\n",
       "      <th>2</th>\n",
       "      <td>3</td>\n",
       "      <td>5156</td>\n",
       "      <td>1.0</td>\n",
       "      <td>0.0</td>\n",
       "      <td>0.0</td>\n",
       "      <td>1</td>\n",
       "    </tr>\n",
       "    <tr>\n",
       "      <th>3</th>\n",
       "      <td>3</td>\n",
       "      <td>5157</td>\n",
       "      <td>1.0</td>\n",
       "      <td>0.0</td>\n",
       "      <td>0.0</td>\n",
       "      <td>1</td>\n",
       "    </tr>\n",
       "    <tr>\n",
       "      <th>4</th>\n",
       "      <td>4</td>\n",
       "      <td>21122</td>\n",
       "      <td>4.0</td>\n",
       "      <td>0.0</td>\n",
       "      <td>0.0</td>\n",
       "      <td>2</td>\n",
       "    </tr>\n",
       "  </tbody>\n",
       "</table>\n",
       "</div>"
      ],
      "text/plain": [
       "   customer_id  product_id  n_views  n_cart  n_purchases  rating\n",
       "0            1       19685      4.0     1.0          0.0       3\n",
       "1            2        7953      1.0     0.0          0.0       1\n",
       "2            3        5156      1.0     0.0          0.0       1\n",
       "3            3        5157      1.0     0.0          0.0       1\n",
       "4            4       21122      4.0     0.0          0.0       2"
      ]
     },
     "execution_count": 9,
     "metadata": {},
     "output_type": "execute_result"
    }
   ],
   "source": [
    "event_counts['rating'] = 0\n",
    "\n",
    "idxs = event_counts[event_counts.n_views == 1].index\n",
    "event_counts.loc[idxs, 'rating'] = 1\n",
    "\n",
    "idxs = event_counts[event_counts.n_views > 1].index\n",
    "event_counts.loc[idxs, 'rating'] = 2\n",
    "\n",
    "idxs = event_counts[event_counts.n_cart == 1].index\n",
    "event_counts.loc[idxs, 'rating'] = 3\n",
    "\n",
    "idxs = event_counts[event_counts.n_cart > 1].index\n",
    "event_counts.loc[idxs, 'rating'] = 4\n",
    "\n",
    "idxs = event_counts[event_counts.n_purchases == 1].index\n",
    "event_counts.loc[idxs, 'rating'] = 5\n",
    "\n",
    "idxs = event_counts[event_counts.n_purchases > 1].index\n",
    "event_counts.loc[idxs, 'rating'] = 6\n",
    "event_counts.head()"
   ]
  },
  {
   "cell_type": "code",
   "execution_count": 96,
   "metadata": {},
   "outputs": [],
   "source": [
    "ratings = event_counts.drop(columns=['n_views','n_cart','n_purchases']).reset_index(drop=True)"
   ]
  },
  {
   "cell_type": "code",
   "execution_count": 47,
   "metadata": {},
   "outputs": [],
   "source": [
    "\n",
    "from lightfm.data import Dataset\n",
    "\n",
    "dataset = Dataset()\n",
    "dataset.fit(\n",
    "    users = set(ratings[:, 0]),\n",
    "    items = set(ratings[:, 1])\n",
    ")\n",
    "_, interactions = dataset.build_interactions(ratings)\n"
   ]
  },
  {
   "cell_type": "code",
   "execution_count": null,
   "metadata": {},
   "outputs": [],
   "source": []
  },
  {
   "cell_type": "code",
   "execution_count": 48,
   "metadata": {},
   "outputs": [
    {
     "data": {
      "text/plain": [
       "(99.98493715404697, (83762, 28369), scipy.sparse.coo.coo_matrix, 6.0)"
      ]
     },
     "execution_count": 48,
     "metadata": {},
     "output_type": "execute_result"
    }
   ],
   "source": [
    "def get_sparsity(M):\n",
    "    matrix_size = M.shape[0]*M.shape[1] \n",
    "    num_events = len(M.nonzero()[0])\n",
    "    sparsity = 100*(1 - (num_events/matrix_size))\n",
    "    return sparsity\n",
    "\n",
    "get_sparsity(interactions), interactions.shape, type(interactions), np.max(interactions)"
   ]
  },
  {
   "cell_type": "code",
   "execution_count": 98,
   "metadata": {},
   "outputs": [
    {
     "data": {
      "text/plain": [
       "(134444, 3)"
      ]
     },
     "execution_count": 98,
     "metadata": {},
     "output_type": "execute_result"
    }
   ],
   "source": [
    "min_product_events_count = 50\n",
    "grouped_events_by_product_id = events.groupby(['product_id']).customer_id.agg('count').to_frame('n_events').reset_index()\n",
    "products_with_more_than_n_events = grouped_events_by_product_id[grouped_events_by_product_id.n_events>min_product_events_count]\n",
    "products_with_more_than_n_events = np.array(products_with_more_than_n_events.product_id)\n",
    "\n",
    "min_customer_events_count = 7\n",
    "grouped_events_by_customer_id = events.groupby(['customer_id']).product_id.agg('count').to_frame('n_events').reset_index()\n",
    "customers_with_more_than_n_events = grouped_events_by_customer_id[grouped_events_by_customer_id.n_events>min_customer_events_count]\n",
    "customers_with_more_than_n_events = np.array(customers_with_more_than_n_events.customer_id)\n",
    "\n",
    "customers_with_more_than_n_events.shape, products_with_more_than_n_events.shape\n",
    "\n",
    "filtered_event_counts = event_counts.loc[event_counts.product_id.isin(products_with_more_than_n_events)]\n",
    "filtered_event_counts = filtered_event_counts.loc[event_counts.customer_id.isin(customers_with_more_than_n_events)]\n",
    "\n",
    "final_df =  filtered_event_counts.drop(columns=['n_views','n_cart','n_purchases']).reset_index(drop=True)\n",
    "ratings = final_df.values\n",
    "ratings.shape"
   ]
  },
  {
   "cell_type": "code",
   "execution_count": 50,
   "metadata": {},
   "outputs": [
    {
     "data": {
      "text/plain": [
       "(17826, 2315, (134444, 3))"
      ]
     },
     "execution_count": 50,
     "metadata": {},
     "output_type": "execute_result"
    }
   ],
   "source": [
    "len(set(filtered_event_counts.customer_id)), len(set(filtered_event_counts.product_id)), ratings.shape"
   ]
  },
  {
   "cell_type": "code",
   "execution_count": 51,
   "metadata": {},
   "outputs": [
    {
     "data": {
      "text/plain": [
       "(99.67421091671132, (17826, 2315), scipy.sparse.coo.coo_matrix, 6.0)"
      ]
     },
     "execution_count": 51,
     "metadata": {},
     "output_type": "execute_result"
    }
   ],
   "source": [
    "dataset = Dataset()\n",
    "dataset.fit(\n",
    "    users = set(ratings[:, 0]),\n",
    "    items = set(ratings[:, 1])\n",
    ")\n",
    "_, interactions = dataset.build_interactions(ratings)\n",
    "\n",
    "get_sparsity(interactions), interactions.shape, type(interactions), np.max(interactions)"
   ]
  },
  {
   "cell_type": "markdown",
   "metadata": {},
   "source": [
    "<h2>Collaborative recommender system</h2>"
   ]
  },
  {
   "cell_type": "code",
   "execution_count": 52,
   "metadata": {},
   "outputs": [
    {
     "data": {
      "text/plain": [
       "(2315, 17826)"
      ]
     },
     "execution_count": 52,
     "metadata": {},
     "output_type": "execute_result"
    }
   ],
   "source": [
    "mappings = dataset.mapping()\n",
    "user_mapping, item_mapping = mappings[0], mappings[2]\n",
    "len(item_mapping), len(user_mapping)"
   ]
  },
  {
   "cell_type": "code",
   "execution_count": 53,
   "metadata": {},
   "outputs": [
    {
     "data": {
      "text/plain": [
       "((17826, 2315), (17826, 2315), 99.73936921801557, 99.93484169869575)"
      ]
     },
     "execution_count": 53,
     "metadata": {},
     "output_type": "execute_result"
    }
   ],
   "source": [
    "from lightfm.cross_validation import random_train_test_split\n",
    "from lightfm import LightFM\n",
    "from lightfm.evaluation import precision_at_k, recall_at_k, auc_score\n",
    "train, test= random_train_test_split(interactions, test_percentage=0.20, random_state=None)\n",
    "\n",
    "train.shape, test.shape, get_sparsity(train), get_sparsity(test)"
   ]
  },
  {
   "cell_type": "code",
   "execution_count": 54,
   "metadata": {},
   "outputs": [
    {
     "data": {
      "text/plain": [
       "((17826, 2315), 99.93484169869575)"
      ]
     },
     "execution_count": 54,
     "metadata": {},
     "output_type": "execute_result"
    }
   ],
   "source": [
    "from scipy.sparse import csr_matrix\n",
    "\n",
    "rnd = np.array(test.todense()).copy()\n",
    "np.random.shuffle(rnd)\n",
    "random = csr_matrix(rnd)\n",
    "random.shape, get_sparsity(random)"
   ]
  },
  {
   "cell_type": "code",
   "execution_count": 55,
   "metadata": {},
   "outputs": [],
   "source": [
    "sorted_popular_items_by_purchase = np.load('sorted_popular_items_by_purchase.npy')\n",
    "sorted_popular_items_by_cart_add = np.load('sorted_popular_items_by_cart_add.npy')\n",
    "sorted_popular_items_by_views = np.load('sorted_popular_items_by_views.npy')\n",
    "n_popular = 50\n",
    "popular = np.zeros(train.shape)\n",
    "for id in sorted_popular_items_by_views[:n_popular]:\n",
    "    if id in item_mapping:\n",
    "        idx = item_mapping[id]\n",
    "        popular[:, idx] = 1.5\n",
    "        \n",
    "for id in sorted_popular_items_by_cart_add[:n_popular]:\n",
    "    if id in item_mapping:\n",
    "        idx = item_mapping[id]\n",
    "        popular[:, idx] = 3.5\n",
    "\n",
    "for id in sorted_popular_items_by_purchase[:n_popular]:\n",
    "    if id in item_mapping:\n",
    "        idx = item_mapping[id]\n",
    "        popular[:, idx] = 5.5\n",
    "        \n",
    "popular = csr_matrix(popular)"
   ]
  },
  {
   "cell_type": "code",
   "execution_count": 56,
   "metadata": {
    "scrolled": true
   },
   "outputs": [
    {
     "name": "stdout",
     "output_type": "stream",
     "text": [
      "Epoch 0\n",
      "Epoch 1\n",
      "Epoch 2\n",
      "Epoch 3\n",
      "Epoch 4\n",
      "Epoch 5\n",
      "Epoch 6\n",
      "Epoch 7\n",
      "Epoch 8\n",
      "Epoch 9\n",
      "Epoch 10\n",
      "Epoch 11\n",
      "Epoch 12\n",
      "Epoch 13\n",
      "Epoch 14\n",
      "random     precision: 0.0043 recall: 0.0203 f1: 0.0070\n",
      "popular    precision: 0.3753 recall: 0.0458 f1: 0.0816\n",
      "train      precision: 0.3587 recall: 0.7531 f1: 0.4860\n",
      "test       precision: 0.0587 recall: 0.3191 f1: 0.0991\n",
      "random     AUC: 0.5977\n",
      "popular    AUC: 0.7635\n",
      "train      AUC: 0.9964\n",
      "test       AUC: 0.9208\n"
     ]
    }
   ],
   "source": [
    "model = LightFM(loss='warp', no_components=40)\n",
    "\n",
    "model.fit_partial(train, epochs=15, verbose=True)\n",
    "\n",
    "d = {\n",
    "    \"random\": random,\n",
    "    \"popular\": popular,\n",
    "    \"train\": train,\n",
    "    \"test\": test,\n",
    "}\n",
    "for key in d:\n",
    "    precision = precision_at_k(model, d[key], k=10, num_threads=4).mean()\n",
    "    recall = recall_at_k(model, d[key], k=10, num_threads=4).mean()\n",
    "    f1 = (2*precision*recall)/(precision+recall) #overit\n",
    "    print(\"{:10} precision: {:5.4f} recall: {:5.4f} f1: {:4.4f}\".format(key, precision, recall, f1))\n",
    "for key in d:\n",
    "    auc = auc_score(model, d[key], num_threads=4).mean()\n",
    "    print(\"{:10} AUC: {:5.4f}\".format(key, auc))\n"
   ]
  },
  {
   "cell_type": "code",
   "execution_count": 57,
   "metadata": {},
   "outputs": [
    {
     "data": {
      "text/html": [
       "<div>\n",
       "<style scoped>\n",
       "    .dataframe tbody tr th:only-of-type {\n",
       "        vertical-align: middle;\n",
       "    }\n",
       "\n",
       "    .dataframe tbody tr th {\n",
       "        vertical-align: top;\n",
       "    }\n",
       "\n",
       "    .dataframe thead th {\n",
       "        text-align: right;\n",
       "    }\n",
       "</style>\n",
       "<table border=\"1\" class=\"dataframe\">\n",
       "  <thead>\n",
       "    <tr style=\"text-align: right;\">\n",
       "      <th></th>\n",
       "      <th>customer_id</th>\n",
       "      <th>product_id</th>\n",
       "      <th>type</th>\n",
       "      <th>timestamp</th>\n",
       "    </tr>\n",
       "  </thead>\n",
       "  <tbody>\n",
       "    <tr>\n",
       "      <th>0</th>\n",
       "      <td>1</td>\n",
       "      <td>19685</td>\n",
       "      <td>view_product</td>\n",
       "      <td>1527812004</td>\n",
       "    </tr>\n",
       "    <tr>\n",
       "      <th>1</th>\n",
       "      <td>1</td>\n",
       "      <td>19685</td>\n",
       "      <td>view_product</td>\n",
       "      <td>1527812041</td>\n",
       "    </tr>\n",
       "    <tr>\n",
       "      <th>2</th>\n",
       "      <td>1</td>\n",
       "      <td>19685</td>\n",
       "      <td>add_to_cart</td>\n",
       "      <td>1527812046</td>\n",
       "    </tr>\n",
       "    <tr>\n",
       "      <th>3</th>\n",
       "      <td>1</td>\n",
       "      <td>19685</td>\n",
       "      <td>view_product</td>\n",
       "      <td>1527812048</td>\n",
       "    </tr>\n",
       "    <tr>\n",
       "      <th>4</th>\n",
       "      <td>1</td>\n",
       "      <td>19685</td>\n",
       "      <td>view_product</td>\n",
       "      <td>1527812050</td>\n",
       "    </tr>\n",
       "  </tbody>\n",
       "</table>\n",
       "</div>"
      ],
      "text/plain": [
       "   customer_id  product_id          type   timestamp\n",
       "0            1       19685  view_product  1527812004\n",
       "1            1       19685  view_product  1527812041\n",
       "2            1       19685   add_to_cart  1527812046\n",
       "3            1       19685  view_product  1527812048\n",
       "4            1       19685  view_product  1527812050"
      ]
     },
     "execution_count": 57,
     "metadata": {},
     "output_type": "execute_result"
    }
   ],
   "source": [
    "events.head()"
   ]
  },
  {
   "cell_type": "code",
   "execution_count": 58,
   "metadata": {},
   "outputs": [
    {
     "name": "stdout",
     "output_type": "stream",
     "text": [
      "        customer_id  product_id           type   timestamp\n",
      "34368          8132       20756   view_product  1527973878\n",
      "34383          8132       12763   view_product  1527973978\n",
      "34421          8132       20756   view_product  1527974104\n",
      "120071         8132       24690   view_product  1528285915\n",
      "120077         8132       24713   view_product  1528285934\n",
      "120079         8132       24690   view_product  1528285947\n",
      "120095         8132       24690   view_product  1528285996\n",
      "120126         8132       23469   view_product  1528286125\n",
      "273316         8132       21099   view_product  1528827848\n",
      "273364         8132       26044   view_product  1528827945\n",
      "273414         8132       26042   view_product  1528827999\n",
      "273465         8132       19454   view_product  1528828076\n",
      "273485         8132       19392   view_product  1528828112\n",
      "273604         8132       24690   view_product  1528828299\n",
      "273608         8132       24713   view_product  1528828302\n",
      "273621         8132       24691   view_product  1528828325\n",
      "273658         8132       24713   view_product  1528828396\n",
      "273661         8132       24690   view_product  1528828397\n",
      "273666         8132       24889   view_product  1528828405\n",
      "273677         8132       24690   view_product  1528828419\n",
      "273778         8132       11219   view_product  1528828623\n",
      "273786         8132       11219    add_to_cart  1528828641\n",
      "273790         8132       11219   view_product  1528828651\n",
      "273842         8132       24713   view_product  1528828751\n",
      "273852         8132       24713    add_to_cart  1528828772\n",
      "273887         8132       24713   view_product  1528828832\n",
      "273901         8132       24713    add_to_cart  1528828854\n",
      "273905         8132       24713   view_product  1528828856\n",
      "274058         8132       11219  purchase_item  1528829060\n",
      "274059         8132       24713  purchase_item  1528829060\n",
      "274119         8132       20756   view_product  1528829146\n",
      "351603         8132       24690   view_product  1529147653\n",
      "383033         8132       26042   view_product  1529265789\n",
      "383042         8132       26043   view_product  1529265800\n",
      "383052         8132       26042   view_product  1529265821\n",
      "427630         8132       20756   view_product  1529470275\n",
      "653020         8132       26533   view_product  1530396435\n",
      "653026         8132       24690   view_product  1530396494\n",
      "653028         8132       24691   view_product  1530396524\n",
      "653037         8132       24691    add_to_cart  1530396593\n",
      "653045         8132       22127   view_product  1530396634\n",
      "653046         8132       24691    add_to_cart  1530396649\n",
      "653049         8132       20585   view_product  1530396673\n",
      "653050         8132       24691    add_to_cart  1530396689\n",
      "653051         8132       22031   view_product  1530396693\n",
      "653056         8132       22033   view_product  1530396713\n",
      "653065         8132       22033    add_to_cart  1530396756\n",
      "653071         8132       24691   view_product  1530396770\n",
      "653077         8132       24713   view_product  1530396796\n",
      "653082         8132       24713    add_to_cart  1530396812\n",
      "653089         8132       24713    add_to_cart  1530396921\n",
      "653090         8132       24713   view_product  1530396922\n",
      "653091         8132       24691   view_product  1530396923\n",
      "653092         8132       22033    add_to_cart  1530396924\n",
      "653093         8132       22031   view_product  1530396926\n",
      "653094         8132       24691    add_to_cart  1530396927\n",
      "653095         8132       24691   view_product  1530396928\n",
      "653096         8132       24690   view_product  1530396928\n"
     ]
    }
   ],
   "source": [
    "customer_id = 8132\n",
    "print(events[events.customer_id == customer_id])\n",
    "all_events = pd.read_csv(\"dataset_events.csv\")\n",
    "# print(all_events[all_events.customer_id == customer_id])\n"
   ]
  },
  {
   "cell_type": "code",
   "execution_count": 59,
   "metadata": {},
   "outputs": [],
   "source": [
    "# colaboratvie \n",
    "# -ak ma produkt viac ako 50 unikatnych videni\n",
    "# -ak ma user aspon 9 pozretych itemov\n",
    "\n",
    "# 1. ak user nenavstivil ziadny produky - popularne\n",
    "# 2. ak user navstivil menej ako 9 itemov - nie je v colab systeme - nevieme vyuzit\n",
    "#     -zistit najpodobnejsie z navstivenych itemov - ovazit a zoradit\n",
    "# 3. ak user navstivil aspon 9 itemov\n",
    "#     -ak maju vsetky itemy aspon 50 zhliadnuti - ok\n",
    "#     -ak niektore itemy maju 50 zhliadnuti - kombinacia colaborative a similarity - aka ?\n",
    "#     -ak ziaden item nema aspon 50 zhliadnuti - kombinacia najpodobnejsich - aka ?\n"
   ]
  },
  {
   "cell_type": "code",
   "execution_count": 60,
   "metadata": {},
   "outputs": [
    {
     "name": "stdout",
     "output_type": "stream",
     "text": [
      "20756 8132\n",
      "12763 8132\n",
      "20756 8132\n",
      "24690 8132\n",
      "24713 8132\n",
      "24690 8132\n",
      "24690 8132\n",
      "23469 8132\n",
      "21099 8132\n",
      "26044 8132\n",
      "26042 8132\n",
      "19454 8132\n",
      "19392 8132\n",
      "24690 8132\n",
      "24713 8132\n",
      "24691 8132\n",
      "24713 8132\n",
      "24690 8132\n",
      "24889 8132\n",
      "24690 8132\n",
      "11219 8132\n",
      "11219 8132\n",
      "11219 8132\n",
      "24713 8132\n",
      "24713 8132\n",
      "24713 8132\n",
      "24713 8132\n",
      "24713 8132\n",
      "11219 8132\n",
      "24713 8132\n",
      "20756 8132\n",
      "24690 8132\n",
      "26042 8132\n",
      "26043 8132\n",
      "26042 8132\n",
      "20756 8132\n",
      "26533 8132\n",
      "24690 8132\n",
      "24691 8132\n",
      "24691 8132\n",
      "22127 8132\n",
      "24691 8132\n",
      "20585 8132\n",
      "24691 8132\n",
      "22031 8132\n",
      "22033 8132\n",
      "22033 8132\n",
      "24691 8132\n",
      "24713 8132\n",
      "24713 8132\n",
      "24713 8132\n",
      "24713 8132\n",
      "24691 8132\n",
      "22033 8132\n",
      "22031 8132\n",
      "24691 8132\n",
      "24691 8132\n",
      "24690 8132\n"
     ]
    }
   ],
   "source": [
    "for i, r in all_events[all_events.customer_id == customer_id].iterrows():\n",
    "    print(r.product_id, r.customer_id)"
   ]
  },
  {
   "cell_type": "code",
   "execution_count": 61,
   "metadata": {},
   "outputs": [
    {
     "data": {
      "text/html": [
       "<div>\n",
       "<style scoped>\n",
       "    .dataframe tbody tr th:only-of-type {\n",
       "        vertical-align: middle;\n",
       "    }\n",
       "\n",
       "    .dataframe tbody tr th {\n",
       "        vertical-align: top;\n",
       "    }\n",
       "\n",
       "    .dataframe thead th {\n",
       "        text-align: right;\n",
       "    }\n",
       "</style>\n",
       "<table border=\"1\" class=\"dataframe\">\n",
       "  <thead>\n",
       "    <tr style=\"text-align: right;\">\n",
       "      <th></th>\n",
       "      <th>product_id</th>\n",
       "      <th>category_id</th>\n",
       "      <th>category_path</th>\n",
       "      <th>brand</th>\n",
       "      <th>gender</th>\n",
       "      <th>description</th>\n",
       "      <th>price</th>\n",
       "    </tr>\n",
       "  </thead>\n",
       "  <tbody>\n",
       "    <tr>\n",
       "      <th>0</th>\n",
       "      <td>1</td>\n",
       "      <td>1</td>\n",
       "      <td>Sports|Outdoor|Outdoor Shoes|Children's Outdoo...</td>\n",
       "      <td>Firetrap</td>\n",
       "      <td>Child</td>\n",
       "      <td>&lt;h2&gt;&lt;!-- mp_trans_rt_start id=\"1\" args=\"as\" 5 ...</td>\n",
       "      <td>41.64</td>\n",
       "    </tr>\n",
       "    <tr>\n",
       "      <th>1</th>\n",
       "      <td>2</td>\n",
       "      <td>1</td>\n",
       "      <td>Sports|Outdoor|Outdoor Shoes|Children's Outdoo...</td>\n",
       "      <td>Firetrap</td>\n",
       "      <td>Child</td>\n",
       "      <td>&lt;h2&gt;&lt;!-- mp_trans_rt_start id=\"1\" args=\"as\" 5 ...</td>\n",
       "      <td>41.64</td>\n",
       "    </tr>\n",
       "    <tr>\n",
       "      <th>2</th>\n",
       "      <td>3</td>\n",
       "      <td>2</td>\n",
       "      <td>Clothes</td>\n",
       "      <td>Firetrap</td>\n",
       "      <td>Child</td>\n",
       "      <td>&lt;h2&gt;&lt;!-- mp_trans_rt_start id=\"1\" args=\"as\" 5 ...</td>\n",
       "      <td>41.64</td>\n",
       "    </tr>\n",
       "    <tr>\n",
       "      <th>3</th>\n",
       "      <td>4</td>\n",
       "      <td>1</td>\n",
       "      <td>Sports|Outdoor|Outdoor Shoes|Children's Outdoo...</td>\n",
       "      <td>Firetrap</td>\n",
       "      <td>Child</td>\n",
       "      <td>&lt;h2&gt;&lt;!-- mp_trans_rt_start id=\"1\" args=\"as\" 5 ...</td>\n",
       "      <td>41.64</td>\n",
       "    </tr>\n",
       "    <tr>\n",
       "      <th>4</th>\n",
       "      <td>5</td>\n",
       "      <td>3</td>\n",
       "      <td>Children|Children's Footwear|Children's Sport ...</td>\n",
       "      <td>Nike</td>\n",
       "      <td>Child</td>\n",
       "      <td>&lt;h2&gt;&lt;!-- mp_trans_rt_start id=\"1\" args=\"as\" 5 ...</td>\n",
       "      <td>23.73</td>\n",
       "    </tr>\n",
       "  </tbody>\n",
       "</table>\n",
       "</div>"
      ],
      "text/plain": [
       "   product_id  category_id                                      category_path  \\\n",
       "0           1            1  Sports|Outdoor|Outdoor Shoes|Children's Outdoo...   \n",
       "1           2            1  Sports|Outdoor|Outdoor Shoes|Children's Outdoo...   \n",
       "2           3            2                                            Clothes   \n",
       "3           4            1  Sports|Outdoor|Outdoor Shoes|Children's Outdoo...   \n",
       "4           5            3  Children|Children's Footwear|Children's Sport ...   \n",
       "\n",
       "      brand gender                                        description  price  \n",
       "0  Firetrap  Child  <h2><!-- mp_trans_rt_start id=\"1\" args=\"as\" 5 ...  41.64  \n",
       "1  Firetrap  Child  <h2><!-- mp_trans_rt_start id=\"1\" args=\"as\" 5 ...  41.64  \n",
       "2  Firetrap  Child  <h2><!-- mp_trans_rt_start id=\"1\" args=\"as\" 5 ...  41.64  \n",
       "3  Firetrap  Child  <h2><!-- mp_trans_rt_start id=\"1\" args=\"as\" 5 ...  41.64  \n",
       "4      Nike  Child  <h2><!-- mp_trans_rt_start id=\"1\" args=\"as\" 5 ...  23.73  "
      ]
     },
     "execution_count": 61,
     "metadata": {},
     "output_type": "execute_result"
    }
   ],
   "source": [
    "products = pd.read_csv(\"dataset_catalog.csv\")\n",
    "products.head()"
   ]
  },
  {
   "cell_type": "code",
   "execution_count": 27,
   "metadata": {},
   "outputs": [
    {
     "data": {
      "text/plain": [
       "array([-2.38675213, -1.73203623])"
      ]
     },
     "execution_count": 27,
     "metadata": {},
     "output_type": "execute_result"
    }
   ],
   "source": [
    "model.predict([0], [0,1])"
   ]
  },
  {
   "cell_type": "code",
   "execution_count": 153,
   "metadata": {
    "scrolled": false
   },
   "outputs": [
    {
     "data": {
      "text/html": [
       "<div>\n",
       "<style scoped>\n",
       "    .dataframe tbody tr th:only-of-type {\n",
       "        vertical-align: middle;\n",
       "    }\n",
       "\n",
       "    .dataframe tbody tr th {\n",
       "        vertical-align: top;\n",
       "    }\n",
       "\n",
       "    .dataframe thead th {\n",
       "        text-align: right;\n",
       "    }\n",
       "</style>\n",
       "<table border=\"1\" class=\"dataframe\">\n",
       "  <thead>\n",
       "    <tr style=\"text-align: right;\">\n",
       "      <th></th>\n",
       "      <th>customer_id</th>\n",
       "      <th>product_id</th>\n",
       "      <th>rating</th>\n",
       "    </tr>\n",
       "  </thead>\n",
       "  <tbody>\n",
       "    <tr>\n",
       "      <th>129381</th>\n",
       "      <td>63767</td>\n",
       "      <td>28207</td>\n",
       "      <td>1</td>\n",
       "    </tr>\n",
       "    <tr>\n",
       "      <th>35051</th>\n",
       "      <td>27333</td>\n",
       "      <td>20786</td>\n",
       "      <td>1</td>\n",
       "    </tr>\n",
       "    <tr>\n",
       "      <th>72735</th>\n",
       "      <td>38239</td>\n",
       "      <td>11535</td>\n",
       "      <td>2</td>\n",
       "    </tr>\n",
       "    <tr>\n",
       "      <th>3566</th>\n",
       "      <td>3887</td>\n",
       "      <td>3502</td>\n",
       "      <td>1</td>\n",
       "    </tr>\n",
       "    <tr>\n",
       "      <th>82189</th>\n",
       "      <td>8854</td>\n",
       "      <td>25426</td>\n",
       "      <td>2</td>\n",
       "    </tr>\n",
       "  </tbody>\n",
       "</table>\n",
       "</div>"
      ],
      "text/plain": [
       "        customer_id  product_id  rating\n",
       "129381        63767       28207       1\n",
       "35051         27333       20786       1\n",
       "72735         38239       11535       2\n",
       "3566           3887        3502       1\n",
       "82189          8854       25426       2"
      ]
     },
     "execution_count": 153,
     "metadata": {},
     "output_type": "execute_result"
    }
   ],
   "source": [
    "final_df.sample(20).head()"
   ]
  },
  {
   "cell_type": "code",
   "execution_count": 166,
   "metadata": {
    "scrolled": true
   },
   "outputs": [
    {
     "name": "stdout",
     "output_type": "stream",
     "text": [
      "[22031 22033 22030 16857  2839 20585 22032 16854 26739 16855 20591 26533\n",
      " 12221 12220 26721 19191 26720  3617 22127 20247]\n"
     ]
    }
   ],
   "source": [
    "user_id = 3887\n",
    "user_idx = user_mapping[user_id]\n",
    "product_idxs = np.array(list(item_mapping.values()))\n",
    "product_ids = np.array(list(item_mapping.keys()))\n",
    "scores = model.predict([user_idx], list(item_mapping.values()))\n",
    "sorted_idxs = np.argsort(-scores)[:20]\n",
    "print(product_ids[sorted_idxs])\n",
    "ids = product_ids[sorted_idxs]"
   ]
  },
  {
   "cell_type": "code",
   "execution_count": 147,
   "metadata": {},
   "outputs": [],
   "source": []
  },
  {
   "cell_type": "code",
   "execution_count": 163,
   "metadata": {},
   "outputs": [],
   "source": [
    "np.random.shuffle(product_ids)\n",
    "ids = product_ids[:20]"
   ]
  },
  {
   "cell_type": "code",
   "execution_count": 167,
   "metadata": {},
   "outputs": [
    {
     "name": "stdout",
     "output_type": "stream",
     "text": [
      "1.0\n",
      "1.0\n",
      "1.0\n",
      "0.9994891008174388\n",
      "0.75\n",
      "0.9998978201634878\n",
      "1.0\n",
      "0.9994891008174388\n",
      "0.39914752822109767\n",
      "0.9994891008174388\n",
      "0.7880983572987973\n",
      "0.18748527827972372\n",
      "0.6601842679718364\n",
      "0.59916650447645\n",
      "0.39914752822109767\n",
      "0.5997956403269755\n",
      "0.39914752822109767\n",
      "0.8492132152588555\n",
      "0.2931855827318606\n",
      "0.39938692098092643\n",
      "\n",
      "0.7161161737302262\n"
     ]
    }
   ],
   "source": [
    "import requests\n",
    "similarities = []\n",
    "for id in ids:\n",
    "    r = requests.get('http://127.0.0.1:5000/similarity/'+str(ids[0])+'/'+str(id))\n",
    "    s = r.json()\n",
    "    print(s)\n",
    "    similarities.append(s)\n",
    "print()\n",
    "print(np.mean(similarities))"
   ]
  },
  {
   "cell_type": "code",
   "execution_count": null,
   "metadata": {},
   "outputs": [],
   "source": []
  }
 ],
 "metadata": {
  "kernelspec": {
   "display_name": "Python 3",
   "language": "python",
   "name": "python3"
  },
  "language_info": {
   "codemirror_mode": {
    "name": "ipython",
    "version": 3
   },
   "file_extension": ".py",
   "mimetype": "text/x-python",
   "name": "python",
   "nbconvert_exporter": "python",
   "pygments_lexer": "ipython3",
   "version": "3.7.3"
  }
 },
 "nbformat": 4,
 "nbformat_minor": 2
}
