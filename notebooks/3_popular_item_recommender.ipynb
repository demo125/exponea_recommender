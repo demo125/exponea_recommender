{
 "cells": [
  {
   "cell_type": "markdown",
   "metadata": {},
   "source": [
    "In this notebook I created dataframes that contain most popular products based on views, add-to-cart and purchases. These dataframes are used for evaluating collaborative recommender system in the first notebook. Also simple recommender that recomends most purchased products for unknows customer is build in this notebook."
   ]
  },
  {
   "cell_type": "code",
   "execution_count": 1,
   "metadata": {},
   "outputs": [],
   "source": [
    "import pandas as pd\n",
    "import numpy as np\n",
    "import matplotlib.pyplot as plt"
   ]
  },
  {
   "cell_type": "code",
   "execution_count": 2,
   "metadata": {},
   "outputs": [
    {
     "name": "stdout",
     "output_type": "stream",
     "text": [
      "(653419, 4)\n"
     ]
    },
    {
     "data": {
      "text/html": [
       "<div>\n",
       "<style scoped>\n",
       "    .dataframe tbody tr th:only-of-type {\n",
       "        vertical-align: middle;\n",
       "    }\n",
       "\n",
       "    .dataframe tbody tr th {\n",
       "        vertical-align: top;\n",
       "    }\n",
       "\n",
       "    .dataframe thead th {\n",
       "        text-align: right;\n",
       "    }\n",
       "</style>\n",
       "<table border=\"1\" class=\"dataframe\">\n",
       "  <thead>\n",
       "    <tr style=\"text-align: right;\">\n",
       "      <th></th>\n",
       "      <th>customer_id</th>\n",
       "      <th>product_id</th>\n",
       "      <th>type</th>\n",
       "      <th>timestamp</th>\n",
       "    </tr>\n",
       "  </thead>\n",
       "  <tbody>\n",
       "    <tr>\n",
       "      <th>0</th>\n",
       "      <td>1</td>\n",
       "      <td>19685</td>\n",
       "      <td>view_product</td>\n",
       "      <td>1527812004</td>\n",
       "    </tr>\n",
       "    <tr>\n",
       "      <th>1</th>\n",
       "      <td>1</td>\n",
       "      <td>19685</td>\n",
       "      <td>view_product</td>\n",
       "      <td>1527812041</td>\n",
       "    </tr>\n",
       "    <tr>\n",
       "      <th>2</th>\n",
       "      <td>1</td>\n",
       "      <td>19685</td>\n",
       "      <td>add_to_cart</td>\n",
       "      <td>1527812046</td>\n",
       "    </tr>\n",
       "    <tr>\n",
       "      <th>3</th>\n",
       "      <td>1</td>\n",
       "      <td>19685</td>\n",
       "      <td>view_product</td>\n",
       "      <td>1527812048</td>\n",
       "    </tr>\n",
       "    <tr>\n",
       "      <th>4</th>\n",
       "      <td>1</td>\n",
       "      <td>19685</td>\n",
       "      <td>view_product</td>\n",
       "      <td>1527812050</td>\n",
       "    </tr>\n",
       "  </tbody>\n",
       "</table>\n",
       "</div>"
      ],
      "text/plain": [
       "   customer_id  product_id          type   timestamp\n",
       "0            1       19685  view_product  1527812004\n",
       "1            1       19685  view_product  1527812041\n",
       "2            1       19685   add_to_cart  1527812046\n",
       "3            1       19685  view_product  1527812048\n",
       "4            1       19685  view_product  1527812050"
      ]
     },
     "execution_count": 2,
     "metadata": {},
     "output_type": "execute_result"
    }
   ],
   "source": [
    "events = pd.read_csv(\"dataset_events.csv\")\n",
    "print(events.shape)\n",
    "events.head()"
   ]
  },
  {
   "cell_type": "code",
   "execution_count": 3,
   "metadata": {
    "scrolled": true
   },
   "outputs": [
    {
     "data": {
      "text/plain": [
       "(1970-01-01    653419\n",
       " Name: date, dtype: int64, (653419, 5))"
      ]
     },
     "execution_count": 3,
     "metadata": {},
     "output_type": "execute_result"
    }
   ],
   "source": [
    "\n",
    "events.loc[pd.to_datetime(events['timestamp']).index, 'date'] = pd.to_datetime(events['timestamp']).values\n",
    "events['date'] = events['date'].apply(lambda x: str(x).split()[0])\n",
    "events['date'].value_counts(), events.shape"
   ]
  },
  {
   "cell_type": "code",
   "execution_count": 4,
   "metadata": {},
   "outputs": [
    {
     "data": {
      "text/html": [
       "<div>\n",
       "<style scoped>\n",
       "    .dataframe tbody tr th:only-of-type {\n",
       "        vertical-align: middle;\n",
       "    }\n",
       "\n",
       "    .dataframe tbody tr th {\n",
       "        vertical-align: top;\n",
       "    }\n",
       "\n",
       "    .dataframe thead th {\n",
       "        text-align: right;\n",
       "    }\n",
       "</style>\n",
       "<table border=\"1\" class=\"dataframe\">\n",
       "  <thead>\n",
       "    <tr style=\"text-align: right;\">\n",
       "      <th></th>\n",
       "      <th>customer_id</th>\n",
       "      <th>product_id</th>\n",
       "      <th>type</th>\n",
       "    </tr>\n",
       "  </thead>\n",
       "  <tbody>\n",
       "    <tr>\n",
       "      <th>161</th>\n",
       "      <td>44</td>\n",
       "      <td>24129</td>\n",
       "      <td>purchase_item</td>\n",
       "    </tr>\n",
       "    <tr>\n",
       "      <th>162</th>\n",
       "      <td>44</td>\n",
       "      <td>3814</td>\n",
       "      <td>purchase_item</td>\n",
       "    </tr>\n",
       "    <tr>\n",
       "      <th>360</th>\n",
       "      <td>121</td>\n",
       "      <td>16959</td>\n",
       "      <td>purchase_item</td>\n",
       "    </tr>\n",
       "    <tr>\n",
       "      <th>396</th>\n",
       "      <td>132</td>\n",
       "      <td>3536</td>\n",
       "      <td>purchase_item</td>\n",
       "    </tr>\n",
       "    <tr>\n",
       "      <th>649</th>\n",
       "      <td>234</td>\n",
       "      <td>26045</td>\n",
       "      <td>purchase_item</td>\n",
       "    </tr>\n",
       "  </tbody>\n",
       "</table>\n",
       "</div>"
      ],
      "text/plain": [
       "     customer_id  product_id           type\n",
       "161           44       24129  purchase_item\n",
       "162           44        3814  purchase_item\n",
       "360          121       16959  purchase_item\n",
       "396          132        3536  purchase_item\n",
       "649          234       26045  purchase_item"
      ]
     },
     "execution_count": 4,
     "metadata": {},
     "output_type": "execute_result"
    }
   ],
   "source": [
    "purchases = events[events.type == 'purchase_item'].drop(columns=['timestamp', 'date'])\n",
    "carts = events[events.type == 'add_to_cart'].drop(columns=['timestamp', 'date'])\n",
    "views = events[events.type == 'view_product'].drop(columns=['timestamp', 'date'])\n",
    "\n",
    "purchases.head()"
   ]
  },
  {
   "cell_type": "code",
   "execution_count": 5,
   "metadata": {},
   "outputs": [
    {
     "data": {
      "text/html": [
       "<div>\n",
       "<style scoped>\n",
       "    .dataframe tbody tr th:only-of-type {\n",
       "        vertical-align: middle;\n",
       "    }\n",
       "\n",
       "    .dataframe tbody tr th {\n",
       "        vertical-align: top;\n",
       "    }\n",
       "\n",
       "    .dataframe thead th {\n",
       "        text-align: right;\n",
       "    }\n",
       "</style>\n",
       "<table border=\"1\" class=\"dataframe\">\n",
       "  <thead>\n",
       "    <tr style=\"text-align: right;\">\n",
       "      <th></th>\n",
       "      <th>customer_id</th>\n",
       "      <th>product_id</th>\n",
       "      <th>type</th>\n",
       "    </tr>\n",
       "  </thead>\n",
       "  <tbody>\n",
       "    <tr>\n",
       "      <th>161</th>\n",
       "      <td>44</td>\n",
       "      <td>24129</td>\n",
       "      <td>purchase_item</td>\n",
       "    </tr>\n",
       "    <tr>\n",
       "      <th>162</th>\n",
       "      <td>44</td>\n",
       "      <td>3814</td>\n",
       "      <td>purchase_item</td>\n",
       "    </tr>\n",
       "    <tr>\n",
       "      <th>360</th>\n",
       "      <td>121</td>\n",
       "      <td>16959</td>\n",
       "      <td>purchase_item</td>\n",
       "    </tr>\n",
       "    <tr>\n",
       "      <th>396</th>\n",
       "      <td>132</td>\n",
       "      <td>3536</td>\n",
       "      <td>purchase_item</td>\n",
       "    </tr>\n",
       "    <tr>\n",
       "      <th>649</th>\n",
       "      <td>234</td>\n",
       "      <td>26045</td>\n",
       "      <td>purchase_item</td>\n",
       "    </tr>\n",
       "  </tbody>\n",
       "</table>\n",
       "</div>"
      ],
      "text/plain": [
       "     customer_id  product_id           type\n",
       "161           44       24129  purchase_item\n",
       "162           44        3814  purchase_item\n",
       "360          121       16959  purchase_item\n",
       "396          132        3536  purchase_item\n",
       "649          234       26045  purchase_item"
      ]
     },
     "execution_count": 5,
     "metadata": {},
     "output_type": "execute_result"
    }
   ],
   "source": [
    "purchases_with_no_duplicates = purchases.drop_duplicates(['product_id', 'customer_id'])\n",
    "add_cart_with_no_duplicates = carts.drop_duplicates(['product_id', 'customer_id'])\n",
    "views_with_no_duplicates = views.drop_duplicates(['product_id', 'customer_id'])\n",
    "\n",
    "purchases_with_no_duplicates.head()"
   ]
  },
  {
   "cell_type": "code",
   "execution_count": 6,
   "metadata": {
    "scrolled": true
   },
   "outputs": [
    {
     "data": {
      "text/html": [
       "<div>\n",
       "<style scoped>\n",
       "    .dataframe tbody tr th:only-of-type {\n",
       "        vertical-align: middle;\n",
       "    }\n",
       "\n",
       "    .dataframe tbody tr th {\n",
       "        vertical-align: top;\n",
       "    }\n",
       "\n",
       "    .dataframe thead th {\n",
       "        text-align: right;\n",
       "    }\n",
       "</style>\n",
       "<table border=\"1\" class=\"dataframe\">\n",
       "  <thead>\n",
       "    <tr style=\"text-align: right;\">\n",
       "      <th></th>\n",
       "      <th>product_id</th>\n",
       "      <th>n_unique_views</th>\n",
       "    </tr>\n",
       "  </thead>\n",
       "  <tbody>\n",
       "    <tr>\n",
       "      <th>22024</th>\n",
       "      <td>22031</td>\n",
       "      <td>2052</td>\n",
       "    </tr>\n",
       "    <tr>\n",
       "      <th>11215</th>\n",
       "      <td>11219</td>\n",
       "      <td>1884</td>\n",
       "    </tr>\n",
       "    <tr>\n",
       "      <th>25009</th>\n",
       "      <td>25016</td>\n",
       "      <td>1832</td>\n",
       "    </tr>\n",
       "    <tr>\n",
       "      <th>21115</th>\n",
       "      <td>21122</td>\n",
       "      <td>1621</td>\n",
       "    </tr>\n",
       "    <tr>\n",
       "      <th>20584</th>\n",
       "      <td>20591</td>\n",
       "      <td>1473</td>\n",
       "    </tr>\n",
       "  </tbody>\n",
       "</table>\n",
       "</div>"
      ],
      "text/plain": [
       "       product_id  n_unique_views\n",
       "22024       22031            2052\n",
       "11215       11219            1884\n",
       "25009       25016            1832\n",
       "21115       21122            1621\n",
       "20584       20591            1473"
      ]
     },
     "execution_count": 6,
     "metadata": {},
     "output_type": "execute_result"
    }
   ],
   "source": [
    "grouped_purchases_count_by_product_id = purchases_with_no_duplicates.groupby(['product_id']).customer_id.agg('count').to_frame('n_unique_purchases').reset_index()\n",
    "sorted_popular_items_by_purchase = grouped_purchases_count_by_product_id.sort_values('n_unique_purchases', ascending=False)\n",
    "\n",
    "grouped_carts_count_by_product_id = add_cart_with_no_duplicates.groupby(['product_id']).customer_id.agg('count').to_frame('n_unique_cart_adds').reset_index()\n",
    "sorted_popular_items_by_cart_add = grouped_carts_count_by_product_id.sort_values('n_unique_cart_adds', ascending=False)\n",
    "\n",
    "grouped_views_count_by_product_id = views_with_no_duplicates.groupby(['product_id']).customer_id.agg('count').to_frame('n_unique_views').reset_index()\n",
    "sorted_popular_items_by_views = grouped_views_count_by_product_id.sort_values('n_unique_views', ascending=False)\n",
    "\n",
    "sorted_popular_items_by_views.head()"
   ]
  },
  {
   "cell_type": "code",
   "execution_count": 7,
   "metadata": {},
   "outputs": [
    {
     "data": {
      "text/plain": [
       "array([22031, 11219, 25016, ...,  5599,  5600, 28369], dtype=int64)"
      ]
     },
     "execution_count": 7,
     "metadata": {},
     "output_type": "execute_result"
    }
   ],
   "source": [
    "sorted_popular_items_by_views.product_id.values"
   ]
  },
  {
   "cell_type": "markdown",
   "metadata": {},
   "source": [
    "These outputs are imported in the first notebooks."
   ]
  },
  {
   "cell_type": "code",
   "execution_count": 14,
   "metadata": {},
   "outputs": [],
   "source": [
    "np.save(\"sorted_popular_items_by_purchase\", sorted_popular_items_by_purchase.product_id.values)\n",
    "np.save(\"sorted_popular_items_by_cart_add\", sorted_popular_items_by_cart_add.product_id.values)\n",
    "np.save(\"sorted_popular_items_by_views\", sorted_popular_items_by_views.product_id.values)"
   ]
  },
  {
   "cell_type": "markdown",
   "metadata": {},
   "source": [
    "<h2>Popular item recommender</h2>"
   ]
  },
  {
   "cell_type": "code",
   "execution_count": 11,
   "metadata": {},
   "outputs": [],
   "source": [
    "\n",
    "from abc import ABC, abstractmethod\n",
    "\n",
    "class RecommenderABC(ABC):\n",
    "    \n",
    "    @abstractmethod\n",
    "    def train(self):\n",
    "        pass\n",
    "    \n",
    "    @abstractmethod\n",
    "    def can_recommend(self):\n",
    "        pass\n",
    "    \n",
    "    @abstractmethod\n",
    "    def recommend(self):\n",
    "        pass\n",
    "\n",
    "import pandas as pd\n",
    "import numpy as np\n",
    "import os\n",
    "\n",
    "class PopRecommender(RecommenderABC):\n",
    "\n",
    "    def __init__(self):\n",
    "        self.sorted_popular_item_ids = None\n",
    "\n",
    "    def train(self):\n",
    "        events = pd.read_csv(\"dataset_events.csv\")\n",
    "\n",
    "        purchases = events[events.type == 'purchase_item'].drop(columns=['timestamp'])\n",
    "        purchases_with_no_duplicates = purchases.drop_duplicates(['product_id', 'customer_id'])\n",
    "\n",
    "        grouped_purchases_count_by_product_id = purchases_with_no_duplicates.groupby(['product_id']).customer_id.agg('count').to_frame('n_unique_purchases').reset_index()\n",
    "\n",
    "        sorted_popular_items = grouped_purchases_count_by_product_id.sort_values('n_unique_purchases', ascending=False)\n",
    "        \n",
    "        self.sorted_popular_item_ids = sorted_popular_items.product_id.values\n",
    "        print('pop recommender trained')\n",
    "    \n",
    "    def can_recommend(self):\n",
    "        return True\n",
    "\n",
    "    def recommend(self, n):\n",
    "        if self.sorted_popular_item_ids is None: self.train()\n",
    "        return self.sorted_popular_item_ids[:n].tolist()"
   ]
  },
  {
   "cell_type": "code",
   "execution_count": 13,
   "metadata": {},
   "outputs": [
    {
     "name": "stdout",
     "output_type": "stream",
     "text": [
      "pop recommender trained\n"
     ]
    },
    {
     "data": {
      "text/plain": [
       "[11219,\n",
       " 22031,\n",
       " 16959,\n",
       " 24848,\n",
       " 24851,\n",
       " 3526,\n",
       " 20585,\n",
       " 24849,\n",
       " 24846,\n",
       " 4232,\n",
       " 20591,\n",
       " 3617,\n",
       " 23886,\n",
       " 23889,\n",
       " 3525,\n",
       " 3524,\n",
       " 24850,\n",
       " 26739,\n",
       " 4231,\n",
       " 8785,\n",
       " 23872,\n",
       " 22033,\n",
       " 22030,\n",
       " 19191,\n",
       " 24845,\n",
       " 20586,\n",
       " 24847,\n",
       " 26741,\n",
       " 4130,\n",
       " 22032,\n",
       " 26719,\n",
       " 22188,\n",
       " 26721,\n",
       " 20590,\n",
       " 26720,\n",
       " 24457,\n",
       " 23566,\n",
       " 4230,\n",
       " 8783,\n",
       " 20592,\n",
       " 24464,\n",
       " 26738,\n",
       " 24052,\n",
       " 19190,\n",
       " 24137,\n",
       " 23450,\n",
       " 21122,\n",
       " 20584,\n",
       " 3477,\n",
       " 21413]"
      ]
     },
     "execution_count": 13,
     "metadata": {},
     "output_type": "execute_result"
    }
   ],
   "source": [
    "popRecommender = PopRecommender()\n",
    "popRecommender.train()\n",
    "popRecommender.recommend(50)"
   ]
  }
 ],
 "metadata": {
  "kernelspec": {
   "display_name": "Python 3",
   "language": "python",
   "name": "python3"
  },
  "language_info": {
   "codemirror_mode": {
    "name": "ipython",
    "version": 3
   },
   "file_extension": ".py",
   "mimetype": "text/x-python",
   "name": "python",
   "nbconvert_exporter": "python",
   "pygments_lexer": "ipython3",
   "version": "3.7.3"
  }
 },
 "nbformat": 4,
 "nbformat_minor": 2
}
